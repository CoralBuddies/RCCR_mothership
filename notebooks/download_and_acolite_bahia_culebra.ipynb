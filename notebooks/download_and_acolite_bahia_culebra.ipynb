{
 "cells": [
  {
   "cell_type": "markdown",
   "metadata": {},
   "source": [
    "# README\n",
    "\n",
    "There will be a couple of settings to change, but those should all be in the first few cells"
   ]
  },
  {
   "cell_type": "code",
   "execution_count": 16,
   "metadata": {
    "collapsed": true
   },
   "outputs": [
    {
     "name": "stdout",
     "output_type": "stream",
     "text": [
      "Collecting geopandas\n",
      "  Downloading https://files.pythonhosted.org/packages/83/c5/3cf9cdc39a6f2552922f79915f36b45a95b71fd343cfc51170a5b6ddb6e8/geopandas-0.7.0-py2.py3-none-any.whl (928kB)\n",
      "Collecting shapely (from geopandas)\n",
      "  Downloading https://files.pythonhosted.org/packages/b8/0b/e5b073f74d8c752e85d11769572f8af134d1d3c9234a8fae0a7c0d1e224a/Shapely-1.7.0-cp36-cp36m-win_amd64.whl (1.0MB)\n",
      "Requirement already satisfied: pandas>=0.23.0 in c:\\program files\\arcgis\\pro\\bin\\python\\envs\\arcgispro-py3\\lib\\site-packages (from geopandas) (0.24.2)\n",
      "Collecting fiona (from geopandas)\n",
      "  Downloading https://files.pythonhosted.org/packages/6d/42/f4a7cac53b28fa70e9a93d0e89a24d33e14826dad6644b699362ad84dde0/Fiona-1.8.13.post1.tar.gz (1.2MB)\n",
      "    Complete output from command python setup.py egg_info:\n",
      "    A GDAL API version must be specified. Provide a path to gdal-config using a GDAL_CONFIG environment variable or use a GDAL_VERSION environment variable.\n",
      "    \n",
      "    ----------------------------------------\n"
     ]
    },
    {
     "name": "stderr",
     "output_type": "stream",
     "text": [
      "Command \"python setup.py egg_info\" failed with error code 1 in C:\\Users\\ADMINI~1\\AppData\\Local\\Temp\\2\\pip-install-lakfh9kb\\fiona\\\n"
     ]
    }
   ],
   "source": [
    "# INSTALL SENTINELSAT PACKAGE IF NEEDED\n",
    "#!pip install sentinelsat"
   ]
  },
  {
   "cell_type": "code",
   "execution_count": null,
   "metadata": {},
   "outputs": [],
   "source": [
    "import os\n",
    "from sentinelsat import SentinelAPI\n",
    "from sentinelsat import SentinelAPI, read_geojson, geojson_to_wkt\n",
    "from pathlib import Path\n",
    "import os"
   ]
  },
  {
   "cell_type": "markdown",
   "metadata": {},
   "source": [
    "## Make sure we are in the project root dir"
   ]
  },
  {
   "cell_type": "code",
   "execution_count": 1,
   "metadata": {},
   "outputs": [
    {
     "data": {
      "text/plain": [
       "'D:\\\\RCCR_mothership\\\\notebooks'"
      ]
     },
     "execution_count": 1,
     "metadata": {},
     "output_type": "execute_result"
    }
   ],
   "source": [
    "os.getcwd()"
   ]
  },
  {
   "cell_type": "code",
   "execution_count": 2,
   "metadata": {},
   "outputs": [],
   "source": [
    "os.chdir('..')"
   ]
  },
  {
   "cell_type": "code",
   "execution_count": 3,
   "metadata": {},
   "outputs": [
    {
     "data": {
      "text/plain": [
       "'D:\\\\RCCR_mothership'"
      ]
     },
     "execution_count": 3,
     "metadata": {},
     "output_type": "execute_result"
    }
   ],
   "source": [
    "os.getcwd()"
   ]
  },
  {
   "cell_type": "markdown",
   "metadata": {},
   "source": [
    "# User inputs"
   ]
  },
  {
   "cell_type": "code",
   "execution_count": 4,
   "metadata": {},
   "outputs": [],
   "source": [
    "user = '' \n",
    "password = '' \n",
    "api = SentinelAPI(user, password, 'https://scihub.copernicus.eu/dhus')"
   ]
  },
  {
   "cell_type": "code",
   "execution_count": 5,
   "metadata": {},
   "outputs": [],
   "source": [
    "# CHANGE THIS IF NOT RUNNING FROM THE PROJECT ROOT\n",
    "#project_root = Path('..')\n",
    "project_root = Path(os.getcwd())\n",
    "\n",
    "# CHECK IF THIS DIRECTORY EXISTS, OR CHANGE IT\n",
    "# where the data will be downloaded, and where acolite will look for the input data\n",
    "data_in_root = Path('Y://Sentinel-2/MSI/L1C')\n",
    "\n",
    "# CHANGE TO YOUR ACOLITE INSTALLATION\n",
    "acolite_path = Path('C:/Users/Administrator/Downloads/acolite_py_win/dist/acolite/acolite.exe')\n",
    "\n",
    "# SETTINGS FILE FOR ACOLITE\n",
    "# THE REPO CONTAINS FILES WITH COORDINATES FOR GOLFO DULCE OR BAHIA CULEBRA\n",
    "# SPECIFY WHICH YOU WANT\n",
    "settings_template_path = project_root/Path('settings/settings_BC_small_withQAA.txt')\n",
    "\n",
    "# YOU NEED TO CREATE A GEOJSON FOR YOUR AREA, IF IT IS NOT INCLUDED IN THE REPO\n",
    "footprint = geojson_to_wkt(read_geojson(project_root/'settings/bahia_culebra_small_rect.geojson'))"
   ]
  },
  {
   "cell_type": "markdown",
   "metadata": {},
   "source": [
    "## Check if it works"
   ]
  },
  {
   "cell_type": "code",
   "execution_count": 8,
   "metadata": {},
   "outputs": [
    {
     "data": {
      "text/plain": [
       "'POLYGON((-85.8376 10.4986,-85.6089 10.4986,-85.6089 10.6755,-85.8376 10.6755,-85.8376 10.4986))'"
      ]
     },
     "execution_count": 8,
     "metadata": {},
     "output_type": "execute_result"
    }
   ],
   "source": [
    "footprint"
   ]
  },
  {
   "cell_type": "code",
   "execution_count": null,
   "metadata": {},
   "outputs": [],
   "source": [
    "os.listdir(data_in_root)"
   ]
  },
  {
   "cell_type": "markdown",
   "metadata": {},
   "source": [
    "## Query Sentinel-2 level 1C data (change parameters if desired)"
   ]
  },
  {
   "cell_type": "code",
   "execution_count": 9,
   "metadata": {},
   "outputs": [
    {
     "name": "stderr",
     "output_type": "stream",
     "text": [
      "Querying products: 100%|██████████████████████████████████████████████████████| 140/140 [00:11<00:00, 12.25 products/s]\n"
     ]
    }
   ],
   "source": [
    "products_L1C = api.query(footprint,\n",
    "                    date = ('20140101', '20200531'),\n",
    "                     platformname = 'Sentinel-2',\n",
    "                     processinglevel = 'Level-1C',\n",
    "                     cloudcoverpercentage = (0,30),\n",
    "                        #limit=5\n",
    "                        )"
   ]
  },
  {
   "cell_type": "code",
   "execution_count": 10,
   "metadata": {},
   "outputs": [
    {
     "data": {
      "text/plain": [
       "140"
      ]
     },
     "execution_count": 10,
     "metadata": {},
     "output_type": "execute_result"
    }
   ],
   "source": [
    "len(products_L1C)"
   ]
  },
  {
   "cell_type": "code",
   "execution_count": 11,
   "metadata": {},
   "outputs": [],
   "source": [
    "products_gdf_L1C = api.to_dataframe(products_L1C)"
   ]
  },
  {
   "cell_type": "code",
   "execution_count": 12,
   "metadata": {},
   "outputs": [
    {
     "data": {
      "text/html": [
       "<div>\n",
       "<style scoped>\n",
       "    .dataframe tbody tr th:only-of-type {\n",
       "        vertical-align: middle;\n",
       "    }\n",
       "\n",
       "    .dataframe tbody tr th {\n",
       "        vertical-align: top;\n",
       "    }\n",
       "\n",
       "    .dataframe thead th {\n",
       "        text-align: right;\n",
       "    }\n",
       "</style>\n",
       "<table border=\"1\" class=\"dataframe\">\n",
       "  <thead>\n",
       "    <tr style=\"text-align: right;\">\n",
       "      <th></th>\n",
       "      <th>title</th>\n",
       "      <th>link</th>\n",
       "      <th>link_alternative</th>\n",
       "      <th>link_icon</th>\n",
       "      <th>summary</th>\n",
       "      <th>datatakesensingstart</th>\n",
       "      <th>beginposition</th>\n",
       "      <th>endposition</th>\n",
       "      <th>ingestiondate</th>\n",
       "      <th>orbitnumber</th>\n",
       "      <th>...</th>\n",
       "      <th>s2datatakeid</th>\n",
       "      <th>producttype</th>\n",
       "      <th>platformidentifier</th>\n",
       "      <th>orbitdirection</th>\n",
       "      <th>platformserialidentifier</th>\n",
       "      <th>processinglevel</th>\n",
       "      <th>identifier</th>\n",
       "      <th>uuid</th>\n",
       "      <th>granuleidentifier</th>\n",
       "      <th>datastripidentifier</th>\n",
       "    </tr>\n",
       "  </thead>\n",
       "  <tbody>\n",
       "    <tr>\n",
       "      <th>b71ce9d4-ec0b-4435-8b77-e60df54fc100</th>\n",
       "      <td>S2B_MSIL1C_20200418T155819_N0209_R097_T16PFS_2...</td>\n",
       "      <td>https://scihub.copernicus.eu/dhus/odata/v1/Pro...</td>\n",
       "      <td>https://scihub.copernicus.eu/dhus/odata/v1/Pro...</td>\n",
       "      <td>https://scihub.copernicus.eu/dhus/odata/v1/Pro...</td>\n",
       "      <td>Date: 2020-04-18T15:58:19.024Z, Instrument: MS...</td>\n",
       "      <td>2020-04-18 15:58:19.024</td>\n",
       "      <td>2020-04-18 15:58:19.024</td>\n",
       "      <td>2020-04-18 15:58:19.024</td>\n",
       "      <td>2020-04-18 23:35:12.181</td>\n",
       "      <td>16282</td>\n",
       "      <td>...</td>\n",
       "      <td>GS2B_20200418T155819_016282_N02.09</td>\n",
       "      <td>S2MSI1C</td>\n",
       "      <td>2017-013A</td>\n",
       "      <td>DESCENDING</td>\n",
       "      <td>Sentinel-2B</td>\n",
       "      <td>Level-1C</td>\n",
       "      <td>S2B_MSIL1C_20200418T155819_N0209_R097_T16PFS_2...</td>\n",
       "      <td>b71ce9d4-ec0b-4435-8b77-e60df54fc100</td>\n",
       "      <td>NaN</td>\n",
       "      <td>NaN</td>\n",
       "    </tr>\n",
       "    <tr>\n",
       "      <th>55fb6fbc-5f5a-4081-9099-c6761d735cd9</th>\n",
       "      <td>S2B_MSIL1C_20200408T155819_N0209_R097_T16PFS_2...</td>\n",
       "      <td>https://scihub.copernicus.eu/dhus/odata/v1/Pro...</td>\n",
       "      <td>https://scihub.copernicus.eu/dhus/odata/v1/Pro...</td>\n",
       "      <td>https://scihub.copernicus.eu/dhus/odata/v1/Pro...</td>\n",
       "      <td>Date: 2020-04-08T15:58:19.024Z, Instrument: MS...</td>\n",
       "      <td>2020-04-08 15:58:19.024</td>\n",
       "      <td>2020-04-08 15:58:19.024</td>\n",
       "      <td>2020-04-08 15:58:19.024</td>\n",
       "      <td>2020-04-08 23:52:15.198</td>\n",
       "      <td>16139</td>\n",
       "      <td>...</td>\n",
       "      <td>GS2B_20200408T155819_016139_N02.09</td>\n",
       "      <td>S2MSI1C</td>\n",
       "      <td>2017-013A</td>\n",
       "      <td>DESCENDING</td>\n",
       "      <td>Sentinel-2B</td>\n",
       "      <td>Level-1C</td>\n",
       "      <td>S2B_MSIL1C_20200408T155819_N0209_R097_T16PFS_2...</td>\n",
       "      <td>55fb6fbc-5f5a-4081-9099-c6761d735cd9</td>\n",
       "      <td>NaN</td>\n",
       "      <td>NaN</td>\n",
       "    </tr>\n",
       "    <tr>\n",
       "      <th>1e178157-3376-46c2-8649-47dd8bcfc2dd</th>\n",
       "      <td>S2A_MSIL1C_20200403T155901_N0209_R097_T16PFS_2...</td>\n",
       "      <td>https://scihub.copernicus.eu/dhus/odata/v1/Pro...</td>\n",
       "      <td>https://scihub.copernicus.eu/dhus/odata/v1/Pro...</td>\n",
       "      <td>https://scihub.copernicus.eu/dhus/odata/v1/Pro...</td>\n",
       "      <td>Date: 2020-04-03T15:59:01.024Z, Instrument: MS...</td>\n",
       "      <td>2020-04-03 15:59:01.024</td>\n",
       "      <td>2020-04-03 15:59:01.024</td>\n",
       "      <td>2020-04-03 15:59:01.024</td>\n",
       "      <td>2020-04-04 01:44:14.312</td>\n",
       "      <td>24976</td>\n",
       "      <td>...</td>\n",
       "      <td>GS2A_20200403T155901_024976_N02.09</td>\n",
       "      <td>S2MSI1C</td>\n",
       "      <td>2015-028A</td>\n",
       "      <td>DESCENDING</td>\n",
       "      <td>Sentinel-2A</td>\n",
       "      <td>Level-1C</td>\n",
       "      <td>S2A_MSIL1C_20200403T155901_N0209_R097_T16PFS_2...</td>\n",
       "      <td>1e178157-3376-46c2-8649-47dd8bcfc2dd</td>\n",
       "      <td>NaN</td>\n",
       "      <td>NaN</td>\n",
       "    </tr>\n",
       "    <tr>\n",
       "      <th>8a4fa571-3e34-48bf-9dfa-45f7bd21545d</th>\n",
       "      <td>S2B_MSIL1C_20200329T155819_N0209_R097_T16PFS_2...</td>\n",
       "      <td>https://scihub.copernicus.eu/dhus/odata/v1/Pro...</td>\n",
       "      <td>https://scihub.copernicus.eu/dhus/odata/v1/Pro...</td>\n",
       "      <td>https://scihub.copernicus.eu/dhus/odata/v1/Pro...</td>\n",
       "      <td>Date: 2020-03-29T15:58:19.024Z, Instrument: MS...</td>\n",
       "      <td>2020-03-29 15:58:19.024</td>\n",
       "      <td>2020-03-29 15:58:19.024</td>\n",
       "      <td>2020-03-29 15:58:19.024</td>\n",
       "      <td>2020-03-30 01:21:18.681</td>\n",
       "      <td>15996</td>\n",
       "      <td>...</td>\n",
       "      <td>GS2B_20200329T155819_015996_N02.09</td>\n",
       "      <td>S2MSI1C</td>\n",
       "      <td>2017-013A</td>\n",
       "      <td>DESCENDING</td>\n",
       "      <td>Sentinel-2B</td>\n",
       "      <td>Level-1C</td>\n",
       "      <td>S2B_MSIL1C_20200329T155819_N0209_R097_T16PFS_2...</td>\n",
       "      <td>8a4fa571-3e34-48bf-9dfa-45f7bd21545d</td>\n",
       "      <td>NaN</td>\n",
       "      <td>NaN</td>\n",
       "    </tr>\n",
       "    <tr>\n",
       "      <th>b37a4948-6d4d-463c-b659-7963e573bbf8</th>\n",
       "      <td>S2A_MSIL1C_20200324T155911_N0209_R097_T16PFS_2...</td>\n",
       "      <td>https://scihub.copernicus.eu/dhus/odata/v1/Pro...</td>\n",
       "      <td>https://scihub.copernicus.eu/dhus/odata/v1/Pro...</td>\n",
       "      <td>https://scihub.copernicus.eu/dhus/odata/v1/Pro...</td>\n",
       "      <td>Date: 2020-03-24T15:59:11.024Z, Instrument: MS...</td>\n",
       "      <td>2020-03-24 15:59:11.024</td>\n",
       "      <td>2020-03-24 15:59:11.024</td>\n",
       "      <td>2020-03-24 15:59:11.024</td>\n",
       "      <td>2020-03-25 06:02:10.684</td>\n",
       "      <td>24833</td>\n",
       "      <td>...</td>\n",
       "      <td>GS2A_20200324T155911_024833_N02.09</td>\n",
       "      <td>S2MSI1C</td>\n",
       "      <td>2015-028A</td>\n",
       "      <td>DESCENDING</td>\n",
       "      <td>Sentinel-2A</td>\n",
       "      <td>Level-1C</td>\n",
       "      <td>S2A_MSIL1C_20200324T155911_N0209_R097_T16PFS_2...</td>\n",
       "      <td>b37a4948-6d4d-463c-b659-7963e573bbf8</td>\n",
       "      <td>NaN</td>\n",
       "      <td>NaN</td>\n",
       "    </tr>\n",
       "  </tbody>\n",
       "</table>\n",
       "<p>5 rows × 35 columns</p>\n",
       "</div>"
      ],
      "text/plain": [
       "                                                                                  title  \\\n",
       "b71ce9d4-ec0b-4435-8b77-e60df54fc100  S2B_MSIL1C_20200418T155819_N0209_R097_T16PFS_2...   \n",
       "55fb6fbc-5f5a-4081-9099-c6761d735cd9  S2B_MSIL1C_20200408T155819_N0209_R097_T16PFS_2...   \n",
       "1e178157-3376-46c2-8649-47dd8bcfc2dd  S2A_MSIL1C_20200403T155901_N0209_R097_T16PFS_2...   \n",
       "8a4fa571-3e34-48bf-9dfa-45f7bd21545d  S2B_MSIL1C_20200329T155819_N0209_R097_T16PFS_2...   \n",
       "b37a4948-6d4d-463c-b659-7963e573bbf8  S2A_MSIL1C_20200324T155911_N0209_R097_T16PFS_2...   \n",
       "\n",
       "                                                                                   link  \\\n",
       "b71ce9d4-ec0b-4435-8b77-e60df54fc100  https://scihub.copernicus.eu/dhus/odata/v1/Pro...   \n",
       "55fb6fbc-5f5a-4081-9099-c6761d735cd9  https://scihub.copernicus.eu/dhus/odata/v1/Pro...   \n",
       "1e178157-3376-46c2-8649-47dd8bcfc2dd  https://scihub.copernicus.eu/dhus/odata/v1/Pro...   \n",
       "8a4fa571-3e34-48bf-9dfa-45f7bd21545d  https://scihub.copernicus.eu/dhus/odata/v1/Pro...   \n",
       "b37a4948-6d4d-463c-b659-7963e573bbf8  https://scihub.copernicus.eu/dhus/odata/v1/Pro...   \n",
       "\n",
       "                                                                       link_alternative  \\\n",
       "b71ce9d4-ec0b-4435-8b77-e60df54fc100  https://scihub.copernicus.eu/dhus/odata/v1/Pro...   \n",
       "55fb6fbc-5f5a-4081-9099-c6761d735cd9  https://scihub.copernicus.eu/dhus/odata/v1/Pro...   \n",
       "1e178157-3376-46c2-8649-47dd8bcfc2dd  https://scihub.copernicus.eu/dhus/odata/v1/Pro...   \n",
       "8a4fa571-3e34-48bf-9dfa-45f7bd21545d  https://scihub.copernicus.eu/dhus/odata/v1/Pro...   \n",
       "b37a4948-6d4d-463c-b659-7963e573bbf8  https://scihub.copernicus.eu/dhus/odata/v1/Pro...   \n",
       "\n",
       "                                                                              link_icon  \\\n",
       "b71ce9d4-ec0b-4435-8b77-e60df54fc100  https://scihub.copernicus.eu/dhus/odata/v1/Pro...   \n",
       "55fb6fbc-5f5a-4081-9099-c6761d735cd9  https://scihub.copernicus.eu/dhus/odata/v1/Pro...   \n",
       "1e178157-3376-46c2-8649-47dd8bcfc2dd  https://scihub.copernicus.eu/dhus/odata/v1/Pro...   \n",
       "8a4fa571-3e34-48bf-9dfa-45f7bd21545d  https://scihub.copernicus.eu/dhus/odata/v1/Pro...   \n",
       "b37a4948-6d4d-463c-b659-7963e573bbf8  https://scihub.copernicus.eu/dhus/odata/v1/Pro...   \n",
       "\n",
       "                                                                                summary  \\\n",
       "b71ce9d4-ec0b-4435-8b77-e60df54fc100  Date: 2020-04-18T15:58:19.024Z, Instrument: MS...   \n",
       "55fb6fbc-5f5a-4081-9099-c6761d735cd9  Date: 2020-04-08T15:58:19.024Z, Instrument: MS...   \n",
       "1e178157-3376-46c2-8649-47dd8bcfc2dd  Date: 2020-04-03T15:59:01.024Z, Instrument: MS...   \n",
       "8a4fa571-3e34-48bf-9dfa-45f7bd21545d  Date: 2020-03-29T15:58:19.024Z, Instrument: MS...   \n",
       "b37a4948-6d4d-463c-b659-7963e573bbf8  Date: 2020-03-24T15:59:11.024Z, Instrument: MS...   \n",
       "\n",
       "                                        datatakesensingstart  \\\n",
       "b71ce9d4-ec0b-4435-8b77-e60df54fc100 2020-04-18 15:58:19.024   \n",
       "55fb6fbc-5f5a-4081-9099-c6761d735cd9 2020-04-08 15:58:19.024   \n",
       "1e178157-3376-46c2-8649-47dd8bcfc2dd 2020-04-03 15:59:01.024   \n",
       "8a4fa571-3e34-48bf-9dfa-45f7bd21545d 2020-03-29 15:58:19.024   \n",
       "b37a4948-6d4d-463c-b659-7963e573bbf8 2020-03-24 15:59:11.024   \n",
       "\n",
       "                                               beginposition  \\\n",
       "b71ce9d4-ec0b-4435-8b77-e60df54fc100 2020-04-18 15:58:19.024   \n",
       "55fb6fbc-5f5a-4081-9099-c6761d735cd9 2020-04-08 15:58:19.024   \n",
       "1e178157-3376-46c2-8649-47dd8bcfc2dd 2020-04-03 15:59:01.024   \n",
       "8a4fa571-3e34-48bf-9dfa-45f7bd21545d 2020-03-29 15:58:19.024   \n",
       "b37a4948-6d4d-463c-b659-7963e573bbf8 2020-03-24 15:59:11.024   \n",
       "\n",
       "                                                 endposition  \\\n",
       "b71ce9d4-ec0b-4435-8b77-e60df54fc100 2020-04-18 15:58:19.024   \n",
       "55fb6fbc-5f5a-4081-9099-c6761d735cd9 2020-04-08 15:58:19.024   \n",
       "1e178157-3376-46c2-8649-47dd8bcfc2dd 2020-04-03 15:59:01.024   \n",
       "8a4fa571-3e34-48bf-9dfa-45f7bd21545d 2020-03-29 15:58:19.024   \n",
       "b37a4948-6d4d-463c-b659-7963e573bbf8 2020-03-24 15:59:11.024   \n",
       "\n",
       "                                               ingestiondate  orbitnumber  \\\n",
       "b71ce9d4-ec0b-4435-8b77-e60df54fc100 2020-04-18 23:35:12.181        16282   \n",
       "55fb6fbc-5f5a-4081-9099-c6761d735cd9 2020-04-08 23:52:15.198        16139   \n",
       "1e178157-3376-46c2-8649-47dd8bcfc2dd 2020-04-04 01:44:14.312        24976   \n",
       "8a4fa571-3e34-48bf-9dfa-45f7bd21545d 2020-03-30 01:21:18.681        15996   \n",
       "b37a4948-6d4d-463c-b659-7963e573bbf8 2020-03-25 06:02:10.684        24833   \n",
       "\n",
       "                                      ...                        s2datatakeid  \\\n",
       "b71ce9d4-ec0b-4435-8b77-e60df54fc100  ...  GS2B_20200418T155819_016282_N02.09   \n",
       "55fb6fbc-5f5a-4081-9099-c6761d735cd9  ...  GS2B_20200408T155819_016139_N02.09   \n",
       "1e178157-3376-46c2-8649-47dd8bcfc2dd  ...  GS2A_20200403T155901_024976_N02.09   \n",
       "8a4fa571-3e34-48bf-9dfa-45f7bd21545d  ...  GS2B_20200329T155819_015996_N02.09   \n",
       "b37a4948-6d4d-463c-b659-7963e573bbf8  ...  GS2A_20200324T155911_024833_N02.09   \n",
       "\n",
       "                                      producttype platformidentifier  \\\n",
       "b71ce9d4-ec0b-4435-8b77-e60df54fc100      S2MSI1C          2017-013A   \n",
       "55fb6fbc-5f5a-4081-9099-c6761d735cd9      S2MSI1C          2017-013A   \n",
       "1e178157-3376-46c2-8649-47dd8bcfc2dd      S2MSI1C          2015-028A   \n",
       "8a4fa571-3e34-48bf-9dfa-45f7bd21545d      S2MSI1C          2017-013A   \n",
       "b37a4948-6d4d-463c-b659-7963e573bbf8      S2MSI1C          2015-028A   \n",
       "\n",
       "                                     orbitdirection platformserialidentifier  \\\n",
       "b71ce9d4-ec0b-4435-8b77-e60df54fc100     DESCENDING              Sentinel-2B   \n",
       "55fb6fbc-5f5a-4081-9099-c6761d735cd9     DESCENDING              Sentinel-2B   \n",
       "1e178157-3376-46c2-8649-47dd8bcfc2dd     DESCENDING              Sentinel-2A   \n",
       "8a4fa571-3e34-48bf-9dfa-45f7bd21545d     DESCENDING              Sentinel-2B   \n",
       "b37a4948-6d4d-463c-b659-7963e573bbf8     DESCENDING              Sentinel-2A   \n",
       "\n",
       "                                     processinglevel  \\\n",
       "b71ce9d4-ec0b-4435-8b77-e60df54fc100        Level-1C   \n",
       "55fb6fbc-5f5a-4081-9099-c6761d735cd9        Level-1C   \n",
       "1e178157-3376-46c2-8649-47dd8bcfc2dd        Level-1C   \n",
       "8a4fa571-3e34-48bf-9dfa-45f7bd21545d        Level-1C   \n",
       "b37a4948-6d4d-463c-b659-7963e573bbf8        Level-1C   \n",
       "\n",
       "                                                                             identifier  \\\n",
       "b71ce9d4-ec0b-4435-8b77-e60df54fc100  S2B_MSIL1C_20200418T155819_N0209_R097_T16PFS_2...   \n",
       "55fb6fbc-5f5a-4081-9099-c6761d735cd9  S2B_MSIL1C_20200408T155819_N0209_R097_T16PFS_2...   \n",
       "1e178157-3376-46c2-8649-47dd8bcfc2dd  S2A_MSIL1C_20200403T155901_N0209_R097_T16PFS_2...   \n",
       "8a4fa571-3e34-48bf-9dfa-45f7bd21545d  S2B_MSIL1C_20200329T155819_N0209_R097_T16PFS_2...   \n",
       "b37a4948-6d4d-463c-b659-7963e573bbf8  S2A_MSIL1C_20200324T155911_N0209_R097_T16PFS_2...   \n",
       "\n",
       "                                                                      uuid  \\\n",
       "b71ce9d4-ec0b-4435-8b77-e60df54fc100  b71ce9d4-ec0b-4435-8b77-e60df54fc100   \n",
       "55fb6fbc-5f5a-4081-9099-c6761d735cd9  55fb6fbc-5f5a-4081-9099-c6761d735cd9   \n",
       "1e178157-3376-46c2-8649-47dd8bcfc2dd  1e178157-3376-46c2-8649-47dd8bcfc2dd   \n",
       "8a4fa571-3e34-48bf-9dfa-45f7bd21545d  8a4fa571-3e34-48bf-9dfa-45f7bd21545d   \n",
       "b37a4948-6d4d-463c-b659-7963e573bbf8  b37a4948-6d4d-463c-b659-7963e573bbf8   \n",
       "\n",
       "                                     granuleidentifier datastripidentifier  \n",
       "b71ce9d4-ec0b-4435-8b77-e60df54fc100               NaN                 NaN  \n",
       "55fb6fbc-5f5a-4081-9099-c6761d735cd9               NaN                 NaN  \n",
       "1e178157-3376-46c2-8649-47dd8bcfc2dd               NaN                 NaN  \n",
       "8a4fa571-3e34-48bf-9dfa-45f7bd21545d               NaN                 NaN  \n",
       "b37a4948-6d4d-463c-b659-7963e573bbf8               NaN                 NaN  \n",
       "\n",
       "[5 rows x 35 columns]"
      ]
     },
     "execution_count": 12,
     "metadata": {},
     "output_type": "execute_result"
    }
   ],
   "source": [
    "products_gdf_L1C.head()"
   ]
  },
  {
   "cell_type": "code",
   "execution_count": 13,
   "metadata": {},
   "outputs": [
    {
     "data": {
      "text/plain": [
       "'S2B_MSIL1C_20200408T155819_N0209_R097_T16PFS_20200408T211445'"
      ]
     },
     "execution_count": 13,
     "metadata": {},
     "output_type": "execute_result"
    }
   ],
   "source": [
    "products_gdf_L1C.title.iloc[1]"
   ]
  },
  {
   "cell_type": "code",
   "execution_count": 14,
   "metadata": {},
   "outputs": [
    {
     "data": {
      "text/plain": [
       "Index(['title', 'link', 'link_alternative', 'link_icon', 'summary',\n",
       "       'datatakesensingstart', 'beginposition', 'endposition', 'ingestiondate',\n",
       "       'orbitnumber', 'relativeorbitnumber', 'cloudcoverpercentage',\n",
       "       'sensoroperationalmode', 'gmlfootprint', 'footprint',\n",
       "       'level1cpdiidentifier', 'tileid', 'hv_order_tileid', 'format',\n",
       "       'processingbaseline', 'platformname', 'filename', 'instrumentname',\n",
       "       'instrumentshortname', 'size', 's2datatakeid', 'producttype',\n",
       "       'platformidentifier', 'orbitdirection', 'platformserialidentifier',\n",
       "       'processinglevel', 'identifier', 'uuid', 'granuleidentifier',\n",
       "       'datastripidentifier'],\n",
       "      dtype='object')"
      ]
     },
     "execution_count": 14,
     "metadata": {},
     "output_type": "execute_result"
    }
   ],
   "source": [
    "products_gdf_L1C.columns"
   ]
  },
  {
   "cell_type": "code",
   "execution_count": 15,
   "metadata": {},
   "outputs": [
    {
     "name": "stdout",
     "output_type": "stream",
     "text": [
      "2020-04-08 15:58:19.024000\n",
      "2020 4 8\n",
      "2020 04\n"
     ]
    }
   ],
   "source": [
    "dt = products_gdf_L1C.datatakesensingstart.iloc[1]\n",
    "print(dt)\n",
    "print(dt.year, dt.month, dt.day)\n",
    "print(dt.year, '{:02d}'.format(dt.month))"
   ]
  },
  {
   "cell_type": "code",
   "execution_count": 16,
   "metadata": {},
   "outputs": [],
   "source": [
    "targets = products_gdf_L1C[['title','datatakesensingstart']]"
   ]
  },
  {
   "cell_type": "code",
   "execution_count": 17,
   "metadata": {},
   "outputs": [
    {
     "data": {
      "text/plain": [
       "140"
      ]
     },
     "execution_count": 17,
     "metadata": {},
     "output_type": "execute_result"
    }
   ],
   "source": [
    "len(targets)"
   ]
  },
  {
   "cell_type": "code",
   "execution_count": null,
   "metadata": {
    "scrolled": true
   },
   "outputs": [],
   "source": [
    "#api.download_all(products_L1C, directory_path=f'{data_in_root}')"
   ]
  },
  {
   "cell_type": "markdown",
   "metadata": {},
   "source": [
    "# run ACOLITE"
   ]
  },
  {
   "cell_type": "markdown",
   "metadata": {},
   "source": [
    "## using CLI"
   ]
  },
  {
   "cell_type": "code",
   "execution_count": 18,
   "metadata": {
    "scrolled": true
   },
   "outputs": [
    {
     "data": {
      "text/plain": [
       "'D:\\\\RCCR_mothership'"
      ]
     },
     "execution_count": 18,
     "metadata": {},
     "output_type": "execute_result"
    }
   ],
   "source": [
    "os.getcwd()"
   ]
  },
  {
   "cell_type": "code",
   "execution_count": 19,
   "metadata": {},
   "outputs": [],
   "source": [
    "def update_settings_file(infile, outfile, new_inputfile=None, new_output=None, new_runid=None):\n",
    "    cwd = Path(os.getcwd())\n",
    "    infile = Path(infile)\n",
    "    outfile = Path(outfile)\n",
    "    with open(cwd/infile, \"r\") as source:\n",
    "        lines = source.readlines()\n",
    "    with open(cwd/outfile, \"w\") as target:\n",
    "        for line in lines:\n",
    "            if new_inputfile and (\"inputfile\" in line):\n",
    "                target.write(f\"inputfile={new_inputfile}\\n\")\n",
    "            elif new_output and (\"output=\" in line):\n",
    "                target.write(f\"output={new_output}\\n\")\n",
    "            elif new_runid and (\"runid=\" in line):\n",
    "                target.write(f\"runid={new_runid}\\n\")\n",
    "            else:\n",
    "                target.write(line)"
   ]
  },
  {
   "cell_type": "markdown",
   "metadata": {},
   "source": [
    "## L1C data"
   ]
  },
  {
   "cell_type": "markdown",
   "metadata": {},
   "source": [
    "#### some checks"
   ]
  },
  {
   "cell_type": "code",
   "execution_count": 21,
   "metadata": {},
   "outputs": [
    {
     "data": {
      "text/plain": [
       "WindowsPath('Y:/Sentinel-2/MSI/L1C')"
      ]
     },
     "execution_count": 21,
     "metadata": {},
     "output_type": "execute_result"
    }
   ],
   "source": [
    "data_in_root"
   ]
  },
  {
   "cell_type": "code",
   "execution_count": 22,
   "metadata": {
    "scrolled": true
   },
   "outputs": [
    {
     "data": {
      "text/html": [
       "<div>\n",
       "<style scoped>\n",
       "    .dataframe tbody tr th:only-of-type {\n",
       "        vertical-align: middle;\n",
       "    }\n",
       "\n",
       "    .dataframe tbody tr th {\n",
       "        vertical-align: top;\n",
       "    }\n",
       "\n",
       "    .dataframe thead th {\n",
       "        text-align: right;\n",
       "    }\n",
       "</style>\n",
       "<table border=\"1\" class=\"dataframe\">\n",
       "  <thead>\n",
       "    <tr style=\"text-align: right;\">\n",
       "      <th></th>\n",
       "      <th>title</th>\n",
       "      <th>datatakesensingstart</th>\n",
       "    </tr>\n",
       "  </thead>\n",
       "  <tbody>\n",
       "    <tr>\n",
       "      <th>b71ce9d4-ec0b-4435-8b77-e60df54fc100</th>\n",
       "      <td>S2B_MSIL1C_20200418T155819_N0209_R097_T16PFS_2...</td>\n",
       "      <td>2020-04-18 15:58:19.024</td>\n",
       "    </tr>\n",
       "    <tr>\n",
       "      <th>55fb6fbc-5f5a-4081-9099-c6761d735cd9</th>\n",
       "      <td>S2B_MSIL1C_20200408T155819_N0209_R097_T16PFS_2...</td>\n",
       "      <td>2020-04-08 15:58:19.024</td>\n",
       "    </tr>\n",
       "    <tr>\n",
       "      <th>1e178157-3376-46c2-8649-47dd8bcfc2dd</th>\n",
       "      <td>S2A_MSIL1C_20200403T155901_N0209_R097_T16PFS_2...</td>\n",
       "      <td>2020-04-03 15:59:01.024</td>\n",
       "    </tr>\n",
       "    <tr>\n",
       "      <th>8a4fa571-3e34-48bf-9dfa-45f7bd21545d</th>\n",
       "      <td>S2B_MSIL1C_20200329T155819_N0209_R097_T16PFS_2...</td>\n",
       "      <td>2020-03-29 15:58:19.024</td>\n",
       "    </tr>\n",
       "    <tr>\n",
       "      <th>b37a4948-6d4d-463c-b659-7963e573bbf8</th>\n",
       "      <td>S2A_MSIL1C_20200324T155911_N0209_R097_T16PFS_2...</td>\n",
       "      <td>2020-03-24 15:59:11.024</td>\n",
       "    </tr>\n",
       "  </tbody>\n",
       "</table>\n",
       "</div>"
      ],
      "text/plain": [
       "                                                                                  title  \\\n",
       "b71ce9d4-ec0b-4435-8b77-e60df54fc100  S2B_MSIL1C_20200418T155819_N0209_R097_T16PFS_2...   \n",
       "55fb6fbc-5f5a-4081-9099-c6761d735cd9  S2B_MSIL1C_20200408T155819_N0209_R097_T16PFS_2...   \n",
       "1e178157-3376-46c2-8649-47dd8bcfc2dd  S2A_MSIL1C_20200403T155901_N0209_R097_T16PFS_2...   \n",
       "8a4fa571-3e34-48bf-9dfa-45f7bd21545d  S2B_MSIL1C_20200329T155819_N0209_R097_T16PFS_2...   \n",
       "b37a4948-6d4d-463c-b659-7963e573bbf8  S2A_MSIL1C_20200324T155911_N0209_R097_T16PFS_2...   \n",
       "\n",
       "                                        datatakesensingstart  \n",
       "b71ce9d4-ec0b-4435-8b77-e60df54fc100 2020-04-18 15:58:19.024  \n",
       "55fb6fbc-5f5a-4081-9099-c6761d735cd9 2020-04-08 15:58:19.024  \n",
       "1e178157-3376-46c2-8649-47dd8bcfc2dd 2020-04-03 15:59:01.024  \n",
       "8a4fa571-3e34-48bf-9dfa-45f7bd21545d 2020-03-29 15:58:19.024  \n",
       "b37a4948-6d4d-463c-b659-7963e573bbf8 2020-03-24 15:59:11.024  "
      ]
     },
     "execution_count": 22,
     "metadata": {},
     "output_type": "execute_result"
    }
   ],
   "source": [
    "targets.head()"
   ]
  },
  {
   "cell_type": "markdown",
   "metadata": {},
   "source": [
    "## The magic happens here"
   ]
  },
  {
   "cell_type": "code",
   "execution_count": null,
   "metadata": {
    "scrolled": true
   },
   "outputs": [],
   "source": [
    "import zipfile\n",
    "import subprocess\n",
    "import fnmatch\n",
    "import shutil\n",
    "import time\n",
    "import pandas as pd\n",
    "\n",
    "# ToDo\n",
    "runid = '001'\n",
    "\n",
    "#for x in data_in_root.glob('*/*/*/*.SAFE'):\n",
    "for i, r in targets.iterrows():\n",
    "    #_, _, _, _, yy, mm, dd, obs_ID = x.parts\n",
    "    #obs_ID = obs_ID.split('.')[0]\n",
    "    if pd.isna(r.datatakesensingstart) == True: \n",
    "        print('couldnt parse date')\n",
    "        continue\n",
    "        \n",
    "    obs_ID = r.title\n",
    "    yy = r.datatakesensingstart.year\n",
    "    mm = '{:02d}'.format(r.datatakesensingstart.month)\n",
    "    dd = '{:02d}'.format(r.datatakesensingstart.day)\n",
    "    print(yy, mm, dd, obs_ID)\n",
    "    \n",
    "    data_in = data_in_root/Path(f'{yy}/{mm}/{dd}/{obs_ID}.SAFE')\n",
    "    data_out = project_root/Path(f'acolite_L1C_out/{yy}_{mm}_{dd}_{obs_ID}')\n",
    "    print(data_in, data_out)\n",
    "    \n",
    "    # does the output dir exist?\n",
    "    # create and continue if not\n",
    "    if not data_out.exists():\n",
    "        #print('creating dir', data_out)\n",
    "        data_out.mkdir(parents=True)\n",
    "\n",
    "        new_settings_path = data_out/Path(f'settings_{runid}.txt')\n",
    "\n",
    "        #print('new settings file')\n",
    "        update_settings_file(settings_template_path, new_settings_path, new_inputfile=data_in, new_output=data_out, \n",
    "                    new_runid=runid)\n",
    "        \n",
    "        logfile_name = data_out/Path(f'python_log_{runid}.txt')\n",
    "        #with open(logfile_name, 'w') as f:\n",
    "        process = subprocess.call([f'{acolite_path}',\n",
    "                                    '--cli',\n",
    "                                    f'--settings={new_settings_path.relative_to(os.getcwd())}'],\n",
    "                                   shell=True,\n",
    "                                   #stdout=f,\n",
    "                                   #stderr=f\n",
    "                                  )\n",
    "                \n",
    "\n",
    "        #break\n",
    "        "
   ]
  }
 ],
 "metadata": {
  "kernelspec": {
   "display_name": "Python 3",
   "language": "python",
   "name": "python3"
  },
  "language_info": {
   "codemirror_mode": {
    "name": "ipython",
    "version": 3
   },
   "file_extension": ".py",
   "mimetype": "text/x-python",
   "name": "python",
   "nbconvert_exporter": "python",
   "pygments_lexer": "ipython3",
   "version": "3.7.6"
  }
 },
 "nbformat": 4,
 "nbformat_minor": 4
}
