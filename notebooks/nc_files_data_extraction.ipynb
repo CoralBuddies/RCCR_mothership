{
 "cells": [
  {
   "cell_type": "code",
   "execution_count": 1,
   "metadata": {},
   "outputs": [],
   "source": [
    "import os\n",
    "import netCDF4\n",
    "import pandas as pd\n",
    "import numpy as np "
   ]
  },
  {
   "cell_type": "code",
   "execution_count": 2,
   "metadata": {},
   "outputs": [],
   "source": [
    "#dir with the nc files\n",
    "input_folder = 'path_to_nc_files'"
   ]
  },
  {
   "cell_type": "markdown",
   "metadata": {},
   "source": [
    "#### data to look up: 'kd490_qaa6', 't_dogliotti', 't_nechad2016', 'spm_nechad2016'; use these as input for the next function <font color=black></font>"
   ]
  },
  {
   "cell_type": "code",
   "execution_count": 3,
   "metadata": {},
   "outputs": [],
   "source": [
    "#collector function for the above data, found inside the nc files, and to store it in an array\n",
    "def collection(input_measure):\n",
    "    \n",
    "    collection_input_data = [np.zeros(shape=(1,1))]\n",
    "    \n",
    "    for file in os.listdir(input_folder):\n",
    "        if file.endswith(\".nc\"):\n",
    "            print(file)\n",
    "            nc_file = netCDF4.Dataset(input_folder+file)\n",
    "            measure = nc_file.variables[input_measure][:]\n",
    "            print(measure.shape)\n",
    "            temp_input_data = pd.DataFrame(measure[0:measure.shape[0],0:measure.shape[1]])\n",
    "            temp_input_data = temp_input_data.fillna(0)\n",
    "            temp_input_data = temp_input_data.to_numpy()\n",
    "            collection_input_data.append(temp_input_data)\n",
    "        \n",
    "        \n",
    "    collection_input_data2 = collection_input_data[1:4]\n",
    "    collection_input_data3 = np.array(collection_input_data2)\n",
    "    print(\"made\")\n",
    "    \n",
    "    return collection_input_data3"
   ]
  },
  {
   "cell_type": "code",
   "execution_count": 4,
   "metadata": {},
   "outputs": [
    {
     "name": "stdout",
     "output_type": "stream",
     "text": [
      "S2A_MSI_2020_03_31_16_05_11_T17PKK_L2W.nc\n",
      "(5598, 4770)\n",
      "S2B_MSI_2020_04_05_16_05_09_T17PKK_L2W.nc\n",
      "(5598, 4770)\n",
      "S2B_MSI_2020_04_15_16_05_09_T17PKK_L2W.nc\n",
      "(5598, 4770)\n",
      "made\n"
     ]
    }
   ],
   "source": [
    "#collect the kd490_qaa6 data from nc files and store it in an array\n",
    "kd490_qaa6_data = collection('kd490_qaa6')"
   ]
  },
  {
   "cell_type": "code",
   "execution_count": 5,
   "metadata": {},
   "outputs": [
    {
     "name": "stdout",
     "output_type": "stream",
     "text": [
      "S2A_MSI_2020_03_31_16_05_11_T17PKK_L2W.nc\n",
      "(5598, 4770)\n",
      "S2B_MSI_2020_04_05_16_05_09_T17PKK_L2W.nc\n",
      "(5598, 4770)\n",
      "S2B_MSI_2020_04_15_16_05_09_T17PKK_L2W.nc\n",
      "(5598, 4770)\n",
      "made\n"
     ]
    }
   ],
   "source": [
    "#collect the t_dogliotti data from nc files and store it in an array\n",
    "t_dogliotti_data = collection('t_dogliotti')"
   ]
  },
  {
   "cell_type": "code",
   "execution_count": 6,
   "metadata": {},
   "outputs": [
    {
     "name": "stdout",
     "output_type": "stream",
     "text": [
      "S2A_MSI_2020_03_31_16_05_11_T17PKK_L2W.nc\n",
      "(5598, 4770)\n",
      "S2B_MSI_2020_04_05_16_05_09_T17PKK_L2W.nc\n",
      "(5598, 4770)\n",
      "S2B_MSI_2020_04_15_16_05_09_T17PKK_L2W.nc\n",
      "(5598, 4770)\n",
      "made\n"
     ]
    }
   ],
   "source": [
    "#collect the t_nechad2016 data from nc files and store it in an array\n",
    "t_nechad2016_data = collection('t_nechad2016')"
   ]
  },
  {
   "cell_type": "code",
   "execution_count": 7,
   "metadata": {},
   "outputs": [
    {
     "name": "stdout",
     "output_type": "stream",
     "text": [
      "S2A_MSI_2020_03_31_16_05_11_T17PKK_L2W.nc\n",
      "(5598, 4770)\n",
      "S2B_MSI_2020_04_05_16_05_09_T17PKK_L2W.nc\n",
      "(5598, 4770)\n",
      "S2B_MSI_2020_04_15_16_05_09_T17PKK_L2W.nc\n",
      "(5598, 4770)\n",
      "made\n"
     ]
    }
   ],
   "source": [
    "#collect the spm_nechad2016 data from nc files and store it in an array\n",
    "spm_nechad2016_data = collection('spm_nechad2016')"
   ]
  },
  {
   "cell_type": "code",
   "execution_count": null,
   "metadata": {},
   "outputs": [],
   "source": [
    "# The above arrays are collections of 4770x5598 images generated from acolite and referring to the area of interest\n",
    "# These arrays are build like the keras datasets and can be already used as input for classification pipelines"
   ]
  },
  {
   "cell_type": "code",
   "execution_count": null,
   "metadata": {},
   "outputs": [],
   "source": []
  }
 ],
 "metadata": {
  "kernelspec": {
   "display_name": "Python 3",
   "language": "python",
   "name": "python3"
  },
  "language_info": {
   "codemirror_mode": {
    "name": "ipython",
    "version": 3
   },
   "file_extension": ".py",
   "mimetype": "text/x-python",
   "name": "python",
   "nbconvert_exporter": "python",
   "pygments_lexer": "ipython3",
   "version": "3.7.7"
  }
 },
 "nbformat": 4,
 "nbformat_minor": 4
}
