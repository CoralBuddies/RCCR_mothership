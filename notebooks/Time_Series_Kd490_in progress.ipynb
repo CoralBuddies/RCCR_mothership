{
 "cells": [
  {
   "cell_type": "code",
   "execution_count": null,
   "metadata": {},
   "outputs": [],
   "source": [
    "import pandas as pd\n",
    "import numpy as np\n",
    "\n",
    "import bokeh.plotting as bp\n",
    "from bokeh.models import CustomJS, BasicTickFormatter, Legend\n",
    "from bokeh.models.widgets import DateRangeSlider\n",
    "from bokeh.layouts import row, widgetbox\n",
    "from bokeh.plotting import figure, show, output_file\n",
    "from bokeh.io import show, output_notebook\n",
    "\n",
    "from bokeh.models import DatetimeTickFormatter\n",
    "\n",
    "from bokeh.application import Application\n",
    "from bokeh.application.handlers import FunctionHandler\n",
    "from datetime import date"
   ]
  },
  {
   "cell_type": "code",
   "execution_count": null,
   "metadata": {},
   "outputs": [],
   "source": [
    "df = \"import_data\""
   ]
  },
  {
   "cell_type": "code",
   "execution_count": null,
   "metadata": {},
   "outputs": [],
   "source": [
    "df['date']=pd.to_datetime(df['date']) #convert to datetime"
   ]
  },
  {
   "cell_type": "code",
   "execution_count": null,
   "metadata": {},
   "outputs": [],
   "source": [
    "#display in notebook\n",
    "dt = bp.ColumnDataSource(df)\n",
    "\n",
    "output_notebook()\n",
    "\n",
    "p = figure(title=\"Punta Gallardo\", \n",
    "       x_axis_label = \"Date\", y_axis_label = \"Temperature in °C\",\n",
    "       x_axis_type='datetime') \n",
    "\n",
    "line1 = p.line(source=dt, x='date', y='kd_pg', color='blue')\n",
    "\n",
    "legend = Legend(items=[\n",
    "    (\"PG\", [line1]),\n",
    "], location=\"top_left\")\n",
    "\n",
    "p.add_layout(legend, 'left')\n",
    "\n",
    "callback = CustomJS(args=dict(p=p), code=\"\"\"\n",
    "    var a = cb_obj.value;\n",
    "    p.x_range.start = a[0];\n",
    "    p.x_range.end = a[1];\n",
    "\"\"\")\n",
    "\n",
    "range_slider = DateRangeSlider(start=date(2016,1,1), end=date(2020,2,15), value=(date(2018,6,1),date(2018,12,1)), step=1, title=\"Test\")\n",
    "range_slider.js_on_change('value', callback)\n",
    "layout = row(p,widgetbox(range_slider))\n",
    "\n",
    "def modify_doc(doc):\n",
    "    doc.add_root(row(layout, width=800))\n",
    "    doc.title = \"test\"\n",
    "\n",
    "handler = FunctionHandler(modify_doc)\n",
    "app = Application(handler)\n",
    "show(app)"
   ]
  },
  {
   "cell_type": "code",
   "execution_count": null,
   "metadata": {},
   "outputs": [],
   "source": [
    "#to do: tweak and add to dashboard"
   ]
  }
 ],
 "metadata": {
  "kernelspec": {
   "display_name": "Python 3",
   "language": "python",
   "name": "python3"
  },
  "language_info": {
   "codemirror_mode": {
    "name": "ipython",
    "version": 3
   },
   "file_extension": ".py",
   "mimetype": "text/x-python",
   "name": "python",
   "nbconvert_exporter": "python",
   "pygments_lexer": "ipython3",
   "version": "3.7.7"
  }
 },
 "nbformat": 4,
 "nbformat_minor": 4
}
