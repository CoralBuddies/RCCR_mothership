{
 "cells": [
  {
   "cell_type": "code",
   "execution_count": 22,
   "metadata": {},
   "outputs": [],
   "source": [
    "from PIL import Image\n",
    "import os\n",
    "from pathlib import Path\n",
    "import pandas as pd\n",
    "import numpy as np"
   ]
  },
  {
   "cell_type": "code",
   "execution_count": 5,
   "metadata": {},
   "outputs": [
    {
     "data": {
      "text/plain": [
       "'D:\\\\RCCR_mothership\\\\notebooks'"
      ]
     },
     "execution_count": 5,
     "metadata": {},
     "output_type": "execute_result"
    }
   ],
   "source": [
    "os.getcwd()"
   ]
  },
  {
   "cell_type": "code",
   "execution_count": 6,
   "metadata": {},
   "outputs": [
    {
     "data": {
      "text/plain": [
       "'D:\\\\RCCR_mothership'"
      ]
     },
     "execution_count": 6,
     "metadata": {},
     "output_type": "execute_result"
    }
   ],
   "source": [
    "os.chdir('..')\n",
    "os.getcwd()"
   ]
  },
  {
   "cell_type": "code",
   "execution_count": 7,
   "metadata": {},
   "outputs": [],
   "source": [
    "data_path = Path(os.getcwd())/Path('data/golfo_dulce_acolite_confirmed')\n",
    "\n",
    "#sizes = []\n",
    "for im_path in data_path.glob('*/*rhos.png'):\n",
    "    print(im_path)\n",
    "    img = Image.open(im_path)\n",
    "    \n",
    "    img = img.crop((0,80,img.size[0],img.size[1]))\n",
    "    \n",
    "    baseh = 256\n",
    "    wpercent = (baseh/float(img.size[1]))\n",
    "    vsize = int((float(img.size[0])*float(wpercent)))\n",
    "    img_small = img.resize((vsize,baseh), Image.ANTIALIAS)\n",
    "\n",
    "    square_img = Image.new('RGB',\n",
    "                     (256, 256),   \n",
    "                     (255, 255, 255))  # White\n",
    "    square_img.paste(img_small, img_small.getbbox())  # Not centered, top-left corner\n",
    "    \n",
    "    save_path = Path('data/golfo_dulce_small_PNGs/good')/im_path.name\n",
    "    square_img.save(save_path) \n",
    "    \n",
    "    #sizes.append(img.size)\n",
    "    \n",
    "    #break"
   ]
  },
  {
   "cell_type": "code",
   "execution_count": 23,
   "metadata": {},
   "outputs": [
    {
     "data": {
      "text/plain": [
       "(1076, 1302)    28\n",
       "(1175, 1302)    22\n",
       "dtype: int64"
      ]
     },
     "execution_count": 23,
     "metadata": {},
     "output_type": "execute_result"
    }
   ],
   "source": [
    "pd.Series(sizes).value_counts()"
   ]
  },
  {
   "cell_type": "code",
   "execution_count": null,
   "metadata": {},
   "outputs": [],
   "source": [
    "# AGAIN, but for bad images"
   ]
  },
  {
   "cell_type": "code",
   "execution_count": null,
   "metadata": {},
   "outputs": [],
   "source": [
    "#sizes = []\n",
    "data_path = Path(os.getcwd())/Path('data/bad_golfo_dulce_acolite')\n",
    "for im_path in data_path.glob('*/*rhos.png'):\n",
    "    print(im_path)\n",
    "    img = Image.open(im_path)\n",
    "    \n",
    "    img = img.crop((0,80,img.size[0],img.size[1]))\n",
    "    \n",
    "    baseh = 256\n",
    "    wpercent = (baseh/float(img.size[1]))\n",
    "    vsize = int((float(img.size[0])*float(wpercent)))\n",
    "    img_small = img.resize((vsize,baseh), Image.ANTIALIAS)\n",
    "\n",
    "    square_img = Image.new('RGB',\n",
    "                     (256, 256),   \n",
    "                     (255, 255, 255))  # White\n",
    "    square_img.paste(img_small, img_small.getbbox())  # Not centered, top-left corner\n",
    "    \n",
    "    save_path = Path('data/golfo_dulce_small_PNGs/bad')/im_path.name\n",
    "    square_img.save(save_path) \n",
    "    \n",
    "    #sizes.append(img.size)\n",
    "    \n",
    "    #break"
   ]
  }
 ],
 "metadata": {
  "kernelspec": {
   "display_name": "Python 3",
   "language": "python",
   "name": "python3"
  },
  "language_info": {
   "codemirror_mode": {
    "name": "ipython",
    "version": 3
   },
   "file_extension": ".py",
   "mimetype": "text/x-python",
   "name": "python",
   "nbconvert_exporter": "python",
   "pygments_lexer": "ipython3",
   "version": "3.7.6"
  }
 },
 "nbformat": 4,
 "nbformat_minor": 4
}
