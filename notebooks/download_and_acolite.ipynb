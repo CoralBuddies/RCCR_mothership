{
 "cells": [
  {
   "cell_type": "markdown",
   "metadata": {},
   "source": [
    "# README\n",
    "\n",
    "There will be a couple of settings to change, but those should all be in the first few cells"
   ]
  },
  {
   "cell_type": "code",
   "execution_count": 16,
   "metadata": {},
   "outputs": [
    {
     "name": "stdout",
     "output_type": "stream",
     "text": [
      "Collecting geopandas\n",
      "  Downloading https://files.pythonhosted.org/packages/83/c5/3cf9cdc39a6f2552922f79915f36b45a95b71fd343cfc51170a5b6ddb6e8/geopandas-0.7.0-py2.py3-none-any.whl (928kB)\n",
      "Collecting shapely (from geopandas)\n",
      "  Downloading https://files.pythonhosted.org/packages/b8/0b/e5b073f74d8c752e85d11769572f8af134d1d3c9234a8fae0a7c0d1e224a/Shapely-1.7.0-cp36-cp36m-win_amd64.whl (1.0MB)\n",
      "Requirement already satisfied: pandas>=0.23.0 in c:\\program files\\arcgis\\pro\\bin\\python\\envs\\arcgispro-py3\\lib\\site-packages (from geopandas) (0.24.2)\n",
      "Collecting fiona (from geopandas)\n",
      "  Downloading https://files.pythonhosted.org/packages/6d/42/f4a7cac53b28fa70e9a93d0e89a24d33e14826dad6644b699362ad84dde0/Fiona-1.8.13.post1.tar.gz (1.2MB)\n",
      "    Complete output from command python setup.py egg_info:\n",
      "    A GDAL API version must be specified. Provide a path to gdal-config using a GDAL_CONFIG environment variable or use a GDAL_VERSION environment variable.\n",
      "    \n",
      "    ----------------------------------------\n"
     ]
    },
    {
     "name": "stderr",
     "output_type": "stream",
     "text": [
      "Command \"python setup.py egg_info\" failed with error code 1 in C:\\Users\\ADMINI~1\\AppData\\Local\\Temp\\2\\pip-install-lakfh9kb\\fiona\\\n"
     ]
    }
   ],
   "source": [
    "#!pip install sentinelsat"
   ]
  },
  {
   "cell_type": "code",
   "execution_count": 3,
   "metadata": {},
   "outputs": [
    {
     "data": {
      "text/plain": [
       "'C:\\\\Users\\\\Administrator\\\\Documents\\\\RCCR_mothership\\\\notebooks'"
      ]
     },
     "execution_count": 3,
     "metadata": {},
     "output_type": "execute_result"
    }
   ],
   "source": [
    "import os\n",
    "from sentinelsat import SentinelAPI\n",
    "from sentinelsat import SentinelAPI, read_geojson, geojson_to_wkt\n",
    "from pathlib import Path\n",
    "import os\n",
    "\n",
    "os.getcwd()"
   ]
  },
  {
   "cell_type": "code",
   "execution_count": 4,
   "metadata": {},
   "outputs": [],
   "source": [
    "os.chdir('..')"
   ]
  },
  {
   "cell_type": "code",
   "execution_count": 5,
   "metadata": {},
   "outputs": [
    {
     "data": {
      "text/plain": [
       "'C:\\\\Users\\\\Administrator\\\\Documents\\\\RCCR_mothership'"
      ]
     },
     "execution_count": 5,
     "metadata": {},
     "output_type": "execute_result"
    }
   ],
   "source": [
    "os.getcwd()"
   ]
  },
  {
   "cell_type": "code",
   "execution_count": 97,
   "metadata": {},
   "outputs": [],
   "source": [
    "user = 'jeroenf' \n",
    "password = 'Yul6(Veb' \n",
    "api = SentinelAPI(user, password, 'https://scihub.copernicus.eu/dhus')"
   ]
  },
  {
   "cell_type": "code",
   "execution_count": 98,
   "metadata": {},
   "outputs": [],
   "source": [
    "# CHANGE THIS IF NOT RUNNING FROM THE PROJECT ROOT\n",
    "#project_root = Path('..')\n",
    "project_root = Path(os.getcwd())\n",
    "\n",
    "# CHECK IF THIS DIRECTORY EXISTS, OR CHANGE IT\n",
    "# where the data will be downloaded, and where acolite will look for the input data\n",
    "data_in_root = Path('Y://Sentinel-2/MSI/L1C')\n",
    "\n",
    "# CHANGE TO YOUR ACOLITE INSTALLATION\n",
    "acolite_path = Path('C:/Users/Administrator/Downloads/acolite_py_win/dist/acolite/acolite.exe')\n",
    "\n",
    "# CHECK THIS, and possible change this\n",
    "settings_template_path = project_root/Path('settings/settings_small_withQAA.txt')"
   ]
  },
  {
   "cell_type": "code",
   "execution_count": 9,
   "metadata": {},
   "outputs": [
    {
     "data": {
      "text/plain": [
       "['2015', '2016', '2017', '2018', '2019', '2020', '2021']"
      ]
     },
     "execution_count": 9,
     "metadata": {},
     "output_type": "execute_result"
    }
   ],
   "source": [
    "os.listdir(data_in_root)"
   ]
  },
  {
   "cell_type": "code",
   "execution_count": 99,
   "metadata": {},
   "outputs": [],
   "source": [
    "# CHECK LOCATION OF THIS FILE\n",
    "footprint = geojson_to_wkt(read_geojson(project_root/'settings/golfo_dulce_small_rect.geojson'))"
   ]
  },
  {
   "cell_type": "code",
   "execution_count": 100,
   "metadata": {},
   "outputs": [
    {
     "data": {
      "text/plain": [
       "'POLYGON((-83.4982 8.3243,-83.0463 8.3243,-83.0463 8.7541,-83.4982 8.7541,-83.4982 8.3243))'"
      ]
     },
     "execution_count": 100,
     "metadata": {},
     "output_type": "execute_result"
    }
   ],
   "source": [
    "footprint"
   ]
  },
  {
   "cell_type": "markdown",
   "metadata": {},
   "source": [
    "## only L1C works for ACOLITE (or at least L2A doesn't)"
   ]
  },
  {
   "cell_type": "code",
   "execution_count": 101,
   "metadata": {},
   "outputs": [
    {
     "name": "stderr",
     "output_type": "stream",
     "text": [
      "Querying products: 100%|██████████████████████████████████████████████████████| 171/171 [00:02<00:00, 74.96 products/s]\n"
     ]
    }
   ],
   "source": [
    "products_L1C = api.query(footprint,\n",
    "                    date = ('20140101', '20200531'),\n",
    "                     platformname = 'Sentinel-2',\n",
    "                     processinglevel = 'Level-1C',\n",
    "                     cloudcoverpercentage = (0,30),\n",
    "                        #limit=5\n",
    "                        )"
   ]
  },
  {
   "cell_type": "code",
   "execution_count": 115,
   "metadata": {},
   "outputs": [
    {
     "data": {
      "text/plain": [
       "171"
      ]
     },
     "execution_count": 115,
     "metadata": {},
     "output_type": "execute_result"
    }
   ],
   "source": [
    "len(products_L1C)"
   ]
  },
  {
   "cell_type": "code",
   "execution_count": 116,
   "metadata": {},
   "outputs": [],
   "source": [
    "products_gdf_L1C = api.to_dataframe(products_L1C)"
   ]
  },
  {
   "cell_type": "code",
   "execution_count": 117,
   "metadata": {},
   "outputs": [
    {
     "data": {
      "text/html": [
       "<div>\n",
       "<style scoped>\n",
       "    .dataframe tbody tr th:only-of-type {\n",
       "        vertical-align: middle;\n",
       "    }\n",
       "\n",
       "    .dataframe tbody tr th {\n",
       "        vertical-align: top;\n",
       "    }\n",
       "\n",
       "    .dataframe thead th {\n",
       "        text-align: right;\n",
       "    }\n",
       "</style>\n",
       "<table border=\"1\" class=\"dataframe\">\n",
       "  <thead>\n",
       "    <tr style=\"text-align: right;\">\n",
       "      <th></th>\n",
       "      <th>title</th>\n",
       "      <th>link</th>\n",
       "      <th>link_alternative</th>\n",
       "      <th>link_icon</th>\n",
       "      <th>summary</th>\n",
       "      <th>datatakesensingstart</th>\n",
       "      <th>beginposition</th>\n",
       "      <th>endposition</th>\n",
       "      <th>ingestiondate</th>\n",
       "      <th>orbitnumber</th>\n",
       "      <th>...</th>\n",
       "      <th>s2datatakeid</th>\n",
       "      <th>producttype</th>\n",
       "      <th>platformidentifier</th>\n",
       "      <th>orbitdirection</th>\n",
       "      <th>platformserialidentifier</th>\n",
       "      <th>processinglevel</th>\n",
       "      <th>identifier</th>\n",
       "      <th>uuid</th>\n",
       "      <th>granuleidentifier</th>\n",
       "      <th>datastripidentifier</th>\n",
       "    </tr>\n",
       "  </thead>\n",
       "  <tbody>\n",
       "    <tr>\n",
       "      <th>0017bdc3-e276-42cf-8eec-dca0df852710</th>\n",
       "      <td>S2A_MSIL1C_20161207T160512_N0204_R054_T17PKK_2...</td>\n",
       "      <td>https://scihub.copernicus.eu/dhus/odata/v1/Pro...</td>\n",
       "      <td>https://scihub.copernicus.eu/dhus/odata/v1/Pro...</td>\n",
       "      <td>https://scihub.copernicus.eu/dhus/odata/v1/Pro...</td>\n",
       "      <td>Date: 2016-12-07T16:05:12.026Z, Instrument: MS...</td>\n",
       "      <td>NaT</td>\n",
       "      <td>2016-12-07 16:05:12.026</td>\n",
       "      <td>2016-12-07 16:05:12.026</td>\n",
       "      <td>2016-12-08 14:27:45.899</td>\n",
       "      <td>7630</td>\n",
       "      <td>...</td>\n",
       "      <td>GS2A_20161207T160512_007630_N02.04</td>\n",
       "      <td>S2MSI1C</td>\n",
       "      <td>2015-000A</td>\n",
       "      <td>DESCENDING</td>\n",
       "      <td>Sentinel-2A</td>\n",
       "      <td>Level-1C</td>\n",
       "      <td>S2A_MSIL1C_20161207T160512_N0204_R054_T17PKK_2...</td>\n",
       "      <td>0017bdc3-e276-42cf-8eec-dca0df852710</td>\n",
       "      <td>S2A_OPER_MSI_L1C_TL_MTI__20161207T205547_A0076...</td>\n",
       "      <td>S2A_OPER_MSI_L1C_DS_MTI__20161207T205547_S2016...</td>\n",
       "    </tr>\n",
       "    <tr>\n",
       "      <th>023754ef-45c4-497a-99a0-7bfcc1131714</th>\n",
       "      <td>S2A_MSIL1C_20160918T160512_N0204_R054_T16PHQ_2...</td>\n",
       "      <td>https://scihub.copernicus.eu/dhus/odata/v1/Pro...</td>\n",
       "      <td>https://scihub.copernicus.eu/dhus/odata/v1/Pro...</td>\n",
       "      <td>https://scihub.copernicus.eu/dhus/odata/v1/Pro...</td>\n",
       "      <td>Date: 2016-09-18T16:05:12.026Z, Instrument: MS...</td>\n",
       "      <td>2016-09-18 16:05:12.026</td>\n",
       "      <td>2016-09-18 16:05:12.026</td>\n",
       "      <td>2016-09-18 16:05:12.026</td>\n",
       "      <td>2018-07-19 01:58:33.451</td>\n",
       "      <td>6486</td>\n",
       "      <td>...</td>\n",
       "      <td>GS2A_20160918T160512_006486_N02.04</td>\n",
       "      <td>S2MSI1C</td>\n",
       "      <td>2015-028A</td>\n",
       "      <td>DESCENDING</td>\n",
       "      <td>Sentinel-2A</td>\n",
       "      <td>Level-1C</td>\n",
       "      <td>S2A_MSIL1C_20160918T160512_N0204_R054_T16PHQ_2...</td>\n",
       "      <td>023754ef-45c4-497a-99a0-7bfcc1131714</td>\n",
       "      <td>S2A_OPER_MSI_L1C_TL_SGS__20160918T210804_A0064...</td>\n",
       "      <td>S2A_OPER_MSI_L1C_DS_SGS__20160918T210804_S2016...</td>\n",
       "    </tr>\n",
       "    <tr>\n",
       "      <th>03d1103c-4171-440f-8841-0aa33b0eea44</th>\n",
       "      <td>S2A_MSIL1C_20191202T160511_N0208_R054_T16PHQ_2...</td>\n",
       "      <td>https://scihub.copernicus.eu/dhus/odata/v1/Pro...</td>\n",
       "      <td>https://scihub.copernicus.eu/dhus/odata/v1/Pro...</td>\n",
       "      <td>https://scihub.copernicus.eu/dhus/odata/v1/Pro...</td>\n",
       "      <td>Date: 2019-12-02T16:05:11.024Z, Instrument: MS...</td>\n",
       "      <td>2019-12-02 16:05:11.024</td>\n",
       "      <td>2019-12-02 16:05:11.024</td>\n",
       "      <td>2019-12-02 16:05:11.024</td>\n",
       "      <td>2019-12-02 23:15:47.896</td>\n",
       "      <td>23217</td>\n",
       "      <td>...</td>\n",
       "      <td>GS2A_20191202T160511_023217_N02.08</td>\n",
       "      <td>S2MSI1C</td>\n",
       "      <td>2015-028A</td>\n",
       "      <td>DESCENDING</td>\n",
       "      <td>Sentinel-2A</td>\n",
       "      <td>Level-1C</td>\n",
       "      <td>S2A_MSIL1C_20191202T160511_N0208_R054_T16PHQ_2...</td>\n",
       "      <td>03d1103c-4171-440f-8841-0aa33b0eea44</td>\n",
       "      <td>NaN</td>\n",
       "      <td>NaN</td>\n",
       "    </tr>\n",
       "    <tr>\n",
       "      <th>044ae374-f8cd-4b71-90cf-ac0da1ce06ee</th>\n",
       "      <td>S2A_MSIL1C_20200131T160501_N0208_R054_T16PHQ_2...</td>\n",
       "      <td>https://scihub.copernicus.eu/dhus/odata/v1/Pro...</td>\n",
       "      <td>https://scihub.copernicus.eu/dhus/odata/v1/Pro...</td>\n",
       "      <td>https://scihub.copernicus.eu/dhus/odata/v1/Pro...</td>\n",
       "      <td>Date: 2020-01-31T16:05:01.024Z, Instrument: MS...</td>\n",
       "      <td>2020-01-31 16:05:01.024</td>\n",
       "      <td>2020-01-31 16:05:01.024</td>\n",
       "      <td>2020-01-31 16:05:01.024</td>\n",
       "      <td>2020-01-31 20:37:02.193</td>\n",
       "      <td>24075</td>\n",
       "      <td>...</td>\n",
       "      <td>GS2A_20200131T160501_024075_N02.08</td>\n",
       "      <td>S2MSI1C</td>\n",
       "      <td>2015-028A</td>\n",
       "      <td>DESCENDING</td>\n",
       "      <td>Sentinel-2A</td>\n",
       "      <td>Level-1C</td>\n",
       "      <td>S2A_MSIL1C_20200131T160501_N0208_R054_T16PHQ_2...</td>\n",
       "      <td>044ae374-f8cd-4b71-90cf-ac0da1ce06ee</td>\n",
       "      <td>NaN</td>\n",
       "      <td>NaN</td>\n",
       "    </tr>\n",
       "    <tr>\n",
       "      <th>067a9b90-7b6a-4ef9-9456-c4b8e2393830</th>\n",
       "      <td>S2A_MSIL1C_20171202T160511_N0206_R054_T16PHQ_2...</td>\n",
       "      <td>https://scihub.copernicus.eu/dhus/odata/v1/Pro...</td>\n",
       "      <td>https://scihub.copernicus.eu/dhus/odata/v1/Pro...</td>\n",
       "      <td>https://scihub.copernicus.eu/dhus/odata/v1/Pro...</td>\n",
       "      <td>Date: 2017-12-02T16:05:11.026Z, Instrument: MS...</td>\n",
       "      <td>2017-12-02 16:05:11.026</td>\n",
       "      <td>2017-12-02 16:05:11.026</td>\n",
       "      <td>2017-12-02 16:05:11.026</td>\n",
       "      <td>2017-12-04 10:34:04.877</td>\n",
       "      <td>12778</td>\n",
       "      <td>...</td>\n",
       "      <td>GS2A_20171202T160511_012778_N02.06</td>\n",
       "      <td>S2MSI1C</td>\n",
       "      <td>2015-000A</td>\n",
       "      <td>DESCENDING</td>\n",
       "      <td>Sentinel-2A</td>\n",
       "      <td>Level-1C</td>\n",
       "      <td>S2A_MSIL1C_20171202T160511_N0206_R054_T16PHQ_2...</td>\n",
       "      <td>067a9b90-7b6a-4ef9-9456-c4b8e2393830</td>\n",
       "      <td>S2A_OPER_MSI_L1C_TL_MTI__20171202T191121_A0127...</td>\n",
       "      <td>S2A_OPER_MSI_L1C_DS_MTI__20171202T191121_S2017...</td>\n",
       "    </tr>\n",
       "  </tbody>\n",
       "</table>\n",
       "<p>5 rows × 35 columns</p>\n",
       "</div>"
      ],
      "text/plain": [
       "                                                                                  title  \\\n",
       "0017bdc3-e276-42cf-8eec-dca0df852710  S2A_MSIL1C_20161207T160512_N0204_R054_T17PKK_2...   \n",
       "023754ef-45c4-497a-99a0-7bfcc1131714  S2A_MSIL1C_20160918T160512_N0204_R054_T16PHQ_2...   \n",
       "03d1103c-4171-440f-8841-0aa33b0eea44  S2A_MSIL1C_20191202T160511_N0208_R054_T16PHQ_2...   \n",
       "044ae374-f8cd-4b71-90cf-ac0da1ce06ee  S2A_MSIL1C_20200131T160501_N0208_R054_T16PHQ_2...   \n",
       "067a9b90-7b6a-4ef9-9456-c4b8e2393830  S2A_MSIL1C_20171202T160511_N0206_R054_T16PHQ_2...   \n",
       "\n",
       "                                                                                   link  \\\n",
       "0017bdc3-e276-42cf-8eec-dca0df852710  https://scihub.copernicus.eu/dhus/odata/v1/Pro...   \n",
       "023754ef-45c4-497a-99a0-7bfcc1131714  https://scihub.copernicus.eu/dhus/odata/v1/Pro...   \n",
       "03d1103c-4171-440f-8841-0aa33b0eea44  https://scihub.copernicus.eu/dhus/odata/v1/Pro...   \n",
       "044ae374-f8cd-4b71-90cf-ac0da1ce06ee  https://scihub.copernicus.eu/dhus/odata/v1/Pro...   \n",
       "067a9b90-7b6a-4ef9-9456-c4b8e2393830  https://scihub.copernicus.eu/dhus/odata/v1/Pro...   \n",
       "\n",
       "                                                                       link_alternative  \\\n",
       "0017bdc3-e276-42cf-8eec-dca0df852710  https://scihub.copernicus.eu/dhus/odata/v1/Pro...   \n",
       "023754ef-45c4-497a-99a0-7bfcc1131714  https://scihub.copernicus.eu/dhus/odata/v1/Pro...   \n",
       "03d1103c-4171-440f-8841-0aa33b0eea44  https://scihub.copernicus.eu/dhus/odata/v1/Pro...   \n",
       "044ae374-f8cd-4b71-90cf-ac0da1ce06ee  https://scihub.copernicus.eu/dhus/odata/v1/Pro...   \n",
       "067a9b90-7b6a-4ef9-9456-c4b8e2393830  https://scihub.copernicus.eu/dhus/odata/v1/Pro...   \n",
       "\n",
       "                                                                              link_icon  \\\n",
       "0017bdc3-e276-42cf-8eec-dca0df852710  https://scihub.copernicus.eu/dhus/odata/v1/Pro...   \n",
       "023754ef-45c4-497a-99a0-7bfcc1131714  https://scihub.copernicus.eu/dhus/odata/v1/Pro...   \n",
       "03d1103c-4171-440f-8841-0aa33b0eea44  https://scihub.copernicus.eu/dhus/odata/v1/Pro...   \n",
       "044ae374-f8cd-4b71-90cf-ac0da1ce06ee  https://scihub.copernicus.eu/dhus/odata/v1/Pro...   \n",
       "067a9b90-7b6a-4ef9-9456-c4b8e2393830  https://scihub.copernicus.eu/dhus/odata/v1/Pro...   \n",
       "\n",
       "                                                                                summary  \\\n",
       "0017bdc3-e276-42cf-8eec-dca0df852710  Date: 2016-12-07T16:05:12.026Z, Instrument: MS...   \n",
       "023754ef-45c4-497a-99a0-7bfcc1131714  Date: 2016-09-18T16:05:12.026Z, Instrument: MS...   \n",
       "03d1103c-4171-440f-8841-0aa33b0eea44  Date: 2019-12-02T16:05:11.024Z, Instrument: MS...   \n",
       "044ae374-f8cd-4b71-90cf-ac0da1ce06ee  Date: 2020-01-31T16:05:01.024Z, Instrument: MS...   \n",
       "067a9b90-7b6a-4ef9-9456-c4b8e2393830  Date: 2017-12-02T16:05:11.026Z, Instrument: MS...   \n",
       "\n",
       "                                        datatakesensingstart  \\\n",
       "0017bdc3-e276-42cf-8eec-dca0df852710                     NaT   \n",
       "023754ef-45c4-497a-99a0-7bfcc1131714 2016-09-18 16:05:12.026   \n",
       "03d1103c-4171-440f-8841-0aa33b0eea44 2019-12-02 16:05:11.024   \n",
       "044ae374-f8cd-4b71-90cf-ac0da1ce06ee 2020-01-31 16:05:01.024   \n",
       "067a9b90-7b6a-4ef9-9456-c4b8e2393830 2017-12-02 16:05:11.026   \n",
       "\n",
       "                                               beginposition  \\\n",
       "0017bdc3-e276-42cf-8eec-dca0df852710 2016-12-07 16:05:12.026   \n",
       "023754ef-45c4-497a-99a0-7bfcc1131714 2016-09-18 16:05:12.026   \n",
       "03d1103c-4171-440f-8841-0aa33b0eea44 2019-12-02 16:05:11.024   \n",
       "044ae374-f8cd-4b71-90cf-ac0da1ce06ee 2020-01-31 16:05:01.024   \n",
       "067a9b90-7b6a-4ef9-9456-c4b8e2393830 2017-12-02 16:05:11.026   \n",
       "\n",
       "                                                 endposition  \\\n",
       "0017bdc3-e276-42cf-8eec-dca0df852710 2016-12-07 16:05:12.026   \n",
       "023754ef-45c4-497a-99a0-7bfcc1131714 2016-09-18 16:05:12.026   \n",
       "03d1103c-4171-440f-8841-0aa33b0eea44 2019-12-02 16:05:11.024   \n",
       "044ae374-f8cd-4b71-90cf-ac0da1ce06ee 2020-01-31 16:05:01.024   \n",
       "067a9b90-7b6a-4ef9-9456-c4b8e2393830 2017-12-02 16:05:11.026   \n",
       "\n",
       "                                               ingestiondate  orbitnumber  \\\n",
       "0017bdc3-e276-42cf-8eec-dca0df852710 2016-12-08 14:27:45.899         7630   \n",
       "023754ef-45c4-497a-99a0-7bfcc1131714 2018-07-19 01:58:33.451         6486   \n",
       "03d1103c-4171-440f-8841-0aa33b0eea44 2019-12-02 23:15:47.896        23217   \n",
       "044ae374-f8cd-4b71-90cf-ac0da1ce06ee 2020-01-31 20:37:02.193        24075   \n",
       "067a9b90-7b6a-4ef9-9456-c4b8e2393830 2017-12-04 10:34:04.877        12778   \n",
       "\n",
       "                                      ...                        s2datatakeid  \\\n",
       "0017bdc3-e276-42cf-8eec-dca0df852710  ...  GS2A_20161207T160512_007630_N02.04   \n",
       "023754ef-45c4-497a-99a0-7bfcc1131714  ...  GS2A_20160918T160512_006486_N02.04   \n",
       "03d1103c-4171-440f-8841-0aa33b0eea44  ...  GS2A_20191202T160511_023217_N02.08   \n",
       "044ae374-f8cd-4b71-90cf-ac0da1ce06ee  ...  GS2A_20200131T160501_024075_N02.08   \n",
       "067a9b90-7b6a-4ef9-9456-c4b8e2393830  ...  GS2A_20171202T160511_012778_N02.06   \n",
       "\n",
       "                                      producttype platformidentifier  \\\n",
       "0017bdc3-e276-42cf-8eec-dca0df852710      S2MSI1C          2015-000A   \n",
       "023754ef-45c4-497a-99a0-7bfcc1131714      S2MSI1C          2015-028A   \n",
       "03d1103c-4171-440f-8841-0aa33b0eea44      S2MSI1C          2015-028A   \n",
       "044ae374-f8cd-4b71-90cf-ac0da1ce06ee      S2MSI1C          2015-028A   \n",
       "067a9b90-7b6a-4ef9-9456-c4b8e2393830      S2MSI1C          2015-000A   \n",
       "\n",
       "                                     orbitdirection platformserialidentifier  \\\n",
       "0017bdc3-e276-42cf-8eec-dca0df852710     DESCENDING              Sentinel-2A   \n",
       "023754ef-45c4-497a-99a0-7bfcc1131714     DESCENDING              Sentinel-2A   \n",
       "03d1103c-4171-440f-8841-0aa33b0eea44     DESCENDING              Sentinel-2A   \n",
       "044ae374-f8cd-4b71-90cf-ac0da1ce06ee     DESCENDING              Sentinel-2A   \n",
       "067a9b90-7b6a-4ef9-9456-c4b8e2393830     DESCENDING              Sentinel-2A   \n",
       "\n",
       "                                     processinglevel  \\\n",
       "0017bdc3-e276-42cf-8eec-dca0df852710        Level-1C   \n",
       "023754ef-45c4-497a-99a0-7bfcc1131714        Level-1C   \n",
       "03d1103c-4171-440f-8841-0aa33b0eea44        Level-1C   \n",
       "044ae374-f8cd-4b71-90cf-ac0da1ce06ee        Level-1C   \n",
       "067a9b90-7b6a-4ef9-9456-c4b8e2393830        Level-1C   \n",
       "\n",
       "                                                                             identifier  \\\n",
       "0017bdc3-e276-42cf-8eec-dca0df852710  S2A_MSIL1C_20161207T160512_N0204_R054_T17PKK_2...   \n",
       "023754ef-45c4-497a-99a0-7bfcc1131714  S2A_MSIL1C_20160918T160512_N0204_R054_T16PHQ_2...   \n",
       "03d1103c-4171-440f-8841-0aa33b0eea44  S2A_MSIL1C_20191202T160511_N0208_R054_T16PHQ_2...   \n",
       "044ae374-f8cd-4b71-90cf-ac0da1ce06ee  S2A_MSIL1C_20200131T160501_N0208_R054_T16PHQ_2...   \n",
       "067a9b90-7b6a-4ef9-9456-c4b8e2393830  S2A_MSIL1C_20171202T160511_N0206_R054_T16PHQ_2...   \n",
       "\n",
       "                                                                      uuid  \\\n",
       "0017bdc3-e276-42cf-8eec-dca0df852710  0017bdc3-e276-42cf-8eec-dca0df852710   \n",
       "023754ef-45c4-497a-99a0-7bfcc1131714  023754ef-45c4-497a-99a0-7bfcc1131714   \n",
       "03d1103c-4171-440f-8841-0aa33b0eea44  03d1103c-4171-440f-8841-0aa33b0eea44   \n",
       "044ae374-f8cd-4b71-90cf-ac0da1ce06ee  044ae374-f8cd-4b71-90cf-ac0da1ce06ee   \n",
       "067a9b90-7b6a-4ef9-9456-c4b8e2393830  067a9b90-7b6a-4ef9-9456-c4b8e2393830   \n",
       "\n",
       "                                                                      granuleidentifier  \\\n",
       "0017bdc3-e276-42cf-8eec-dca0df852710  S2A_OPER_MSI_L1C_TL_MTI__20161207T205547_A0076...   \n",
       "023754ef-45c4-497a-99a0-7bfcc1131714  S2A_OPER_MSI_L1C_TL_SGS__20160918T210804_A0064...   \n",
       "03d1103c-4171-440f-8841-0aa33b0eea44                                                NaN   \n",
       "044ae374-f8cd-4b71-90cf-ac0da1ce06ee                                                NaN   \n",
       "067a9b90-7b6a-4ef9-9456-c4b8e2393830  S2A_OPER_MSI_L1C_TL_MTI__20171202T191121_A0127...   \n",
       "\n",
       "                                                                    datastripidentifier  \n",
       "0017bdc3-e276-42cf-8eec-dca0df852710  S2A_OPER_MSI_L1C_DS_MTI__20161207T205547_S2016...  \n",
       "023754ef-45c4-497a-99a0-7bfcc1131714  S2A_OPER_MSI_L1C_DS_SGS__20160918T210804_S2016...  \n",
       "03d1103c-4171-440f-8841-0aa33b0eea44                                                NaN  \n",
       "044ae374-f8cd-4b71-90cf-ac0da1ce06ee                                                NaN  \n",
       "067a9b90-7b6a-4ef9-9456-c4b8e2393830  S2A_OPER_MSI_L1C_DS_MTI__20171202T191121_S2017...  \n",
       "\n",
       "[5 rows x 35 columns]"
      ]
     },
     "execution_count": 117,
     "metadata": {},
     "output_type": "execute_result"
    }
   ],
   "source": [
    "products_gdf_L1C.head()"
   ]
  },
  {
   "cell_type": "code",
   "execution_count": 104,
   "metadata": {},
   "outputs": [
    {
     "data": {
      "text/plain": [
       "'S2A_MSIL1C_20160918T160512_N0204_R054_T16PHQ_20160918T160929'"
      ]
     },
     "execution_count": 104,
     "metadata": {},
     "output_type": "execute_result"
    }
   ],
   "source": [
    "products_gdf_L1C.title.iloc[1]"
   ]
  },
  {
   "cell_type": "code",
   "execution_count": 105,
   "metadata": {},
   "outputs": [
    {
     "data": {
      "text/plain": [
       "Index(['title', 'link', 'link_alternative', 'link_icon', 'summary',\n",
       "       'datatakesensingstart', 'beginposition', 'endposition', 'ingestiondate',\n",
       "       'orbitnumber', 'relativeorbitnumber', 'cloudcoverpercentage',\n",
       "       'sensoroperationalmode', 'gmlfootprint', 'footprint',\n",
       "       'level1cpdiidentifier', 'tileid', 'hv_order_tileid', 'format',\n",
       "       'processingbaseline', 'platformname', 'filename', 'instrumentname',\n",
       "       'instrumentshortname', 'size', 's2datatakeid', 'producttype',\n",
       "       'platformidentifier', 'orbitdirection', 'platformserialidentifier',\n",
       "       'processinglevel', 'identifier', 'uuid', 'granuleidentifier',\n",
       "       'datastripidentifier'],\n",
       "      dtype='object')"
      ]
     },
     "execution_count": 105,
     "metadata": {},
     "output_type": "execute_result"
    }
   ],
   "source": [
    "products_gdf_L1C.columns"
   ]
  },
  {
   "cell_type": "code",
   "execution_count": 47,
   "metadata": {},
   "outputs": [
    {
     "name": "stdout",
     "output_type": "stream",
     "text": [
      "2016-09-18 16:05:12.026000\n",
      "2016 9 18\n",
      "2016 09\n"
     ]
    }
   ],
   "source": [
    "dt = products_gdf_L1C.datatakesensingstart.iloc[1]\n",
    "print(dt)\n",
    "print(dt.year, dt.month, dt.day)\n",
    "print(dt.year, '{:02d}'.format(dt.month))"
   ]
  },
  {
   "cell_type": "code",
   "execution_count": 106,
   "metadata": {},
   "outputs": [],
   "source": [
    "targets = products_gdf_L1C[['title','datatakesensingstart']]"
   ]
  },
  {
   "cell_type": "code",
   "execution_count": 118,
   "metadata": {},
   "outputs": [
    {
     "data": {
      "text/plain": [
       "171"
      ]
     },
     "execution_count": 118,
     "metadata": {},
     "output_type": "execute_result"
    }
   ],
   "source": [
    "len(targets)"
   ]
  },
  {
   "cell_type": "code",
   "execution_count": null,
   "metadata": {
    "scrolled": true
   },
   "outputs": [],
   "source": [
    "#api.download_all(products_L1C, directory_path=f'{data_in_root}')"
   ]
  },
  {
   "cell_type": "markdown",
   "metadata": {},
   "source": [
    "# run ACOLITE"
   ]
  },
  {
   "cell_type": "markdown",
   "metadata": {},
   "source": [
    "## using CLI"
   ]
  },
  {
   "cell_type": "code",
   "execution_count": 22,
   "metadata": {},
   "outputs": [],
   "source": [
    "# need to create dirs, settings files, unzip\n",
    "# change inputfile, output, runid?"
   ]
  },
  {
   "cell_type": "code",
   "execution_count": 107,
   "metadata": {
    "scrolled": true
   },
   "outputs": [
    {
     "data": {
      "text/plain": [
       "'C:\\\\Users\\\\Administrator\\\\Documents\\\\RCCR_mothership'"
      ]
     },
     "execution_count": 107,
     "metadata": {},
     "output_type": "execute_result"
    }
   ],
   "source": [
    "os.getcwd()"
   ]
  },
  {
   "cell_type": "code",
   "execution_count": 108,
   "metadata": {},
   "outputs": [],
   "source": [
    "def update_settings_file(infile, outfile, new_inputfile=None, new_output=None, new_runid=None):\n",
    "    cwd = Path(os.getcwd())\n",
    "    infile = Path(infile)\n",
    "    outfile = Path(outfile)\n",
    "    with open(cwd/infile, \"r\") as source:\n",
    "        lines = source.readlines()\n",
    "    with open(cwd/outfile, \"w\") as target:\n",
    "        for line in lines:\n",
    "            if new_inputfile and (\"inputfile\" in line):\n",
    "                target.write(f\"inputfile={new_inputfile}\\n\")\n",
    "            elif new_output and (\"output=\" in line):\n",
    "                target.write(f\"output={new_output}\\n\")\n",
    "            elif new_runid and (\"runid=\" in line):\n",
    "                target.write(f\"runid={new_runid}\\n\")\n",
    "            else:\n",
    "                target.write(line)"
   ]
  },
  {
   "cell_type": "markdown",
   "metadata": {},
   "source": [
    "## L1C data"
   ]
  },
  {
   "cell_type": "markdown",
   "metadata": {},
   "source": [
    "This will look in the data folder and see if there are any observations there that do not yet have an corresponding output folder. (It will look for zip files)\n",
    "\n",
    "If it finds any, it will extract the zip (in place), and then perform acolite.\n",
    "\n",
    "Golfo Dulce coordinates are hardcoded, so you can't just use other data!"
   ]
  },
  {
   "cell_type": "code",
   "execution_count": 109,
   "metadata": {},
   "outputs": [
    {
     "data": {
      "text/plain": [
       "'C:\\\\Users\\\\Administrator\\\\Documents\\\\RCCR_mothership'"
      ]
     },
     "execution_count": 109,
     "metadata": {},
     "output_type": "execute_result"
    }
   ],
   "source": [
    "os.getcwd()"
   ]
  },
  {
   "cell_type": "code",
   "execution_count": 110,
   "metadata": {},
   "outputs": [
    {
     "data": {
      "text/plain": [
       "WindowsPath('Y:/Sentinel-2/MSI/L1C')"
      ]
     },
     "execution_count": 110,
     "metadata": {},
     "output_type": "execute_result"
    }
   ],
   "source": [
    "data_in_root"
   ]
  },
  {
   "cell_type": "code",
   "execution_count": 113,
   "metadata": {},
   "outputs": [
    {
     "data": {
      "text/html": [
       "<div>\n",
       "<style scoped>\n",
       "    .dataframe tbody tr th:only-of-type {\n",
       "        vertical-align: middle;\n",
       "    }\n",
       "\n",
       "    .dataframe tbody tr th {\n",
       "        vertical-align: top;\n",
       "    }\n",
       "\n",
       "    .dataframe thead th {\n",
       "        text-align: right;\n",
       "    }\n",
       "</style>\n",
       "<table border=\"1\" class=\"dataframe\">\n",
       "  <thead>\n",
       "    <tr style=\"text-align: right;\">\n",
       "      <th></th>\n",
       "      <th>title</th>\n",
       "      <th>datatakesensingstart</th>\n",
       "    </tr>\n",
       "  </thead>\n",
       "  <tbody>\n",
       "    <tr>\n",
       "      <th>0017bdc3-e276-42cf-8eec-dca0df852710</th>\n",
       "      <td>S2A_MSIL1C_20161207T160512_N0204_R054_T17PKK_2...</td>\n",
       "      <td>NaT</td>\n",
       "    </tr>\n",
       "    <tr>\n",
       "      <th>023754ef-45c4-497a-99a0-7bfcc1131714</th>\n",
       "      <td>S2A_MSIL1C_20160918T160512_N0204_R054_T16PHQ_2...</td>\n",
       "      <td>2016-09-18 16:05:12.026</td>\n",
       "    </tr>\n",
       "    <tr>\n",
       "      <th>03d1103c-4171-440f-8841-0aa33b0eea44</th>\n",
       "      <td>S2A_MSIL1C_20191202T160511_N0208_R054_T16PHQ_2...</td>\n",
       "      <td>2019-12-02 16:05:11.024</td>\n",
       "    </tr>\n",
       "    <tr>\n",
       "      <th>044ae374-f8cd-4b71-90cf-ac0da1ce06ee</th>\n",
       "      <td>S2A_MSIL1C_20200131T160501_N0208_R054_T16PHQ_2...</td>\n",
       "      <td>2020-01-31 16:05:01.024</td>\n",
       "    </tr>\n",
       "    <tr>\n",
       "      <th>067a9b90-7b6a-4ef9-9456-c4b8e2393830</th>\n",
       "      <td>S2A_MSIL1C_20171202T160511_N0206_R054_T16PHQ_2...</td>\n",
       "      <td>2017-12-02 16:05:11.026</td>\n",
       "    </tr>\n",
       "  </tbody>\n",
       "</table>\n",
       "</div>"
      ],
      "text/plain": [
       "                                                                                  title  \\\n",
       "0017bdc3-e276-42cf-8eec-dca0df852710  S2A_MSIL1C_20161207T160512_N0204_R054_T17PKK_2...   \n",
       "023754ef-45c4-497a-99a0-7bfcc1131714  S2A_MSIL1C_20160918T160512_N0204_R054_T16PHQ_2...   \n",
       "03d1103c-4171-440f-8841-0aa33b0eea44  S2A_MSIL1C_20191202T160511_N0208_R054_T16PHQ_2...   \n",
       "044ae374-f8cd-4b71-90cf-ac0da1ce06ee  S2A_MSIL1C_20200131T160501_N0208_R054_T16PHQ_2...   \n",
       "067a9b90-7b6a-4ef9-9456-c4b8e2393830  S2A_MSIL1C_20171202T160511_N0206_R054_T16PHQ_2...   \n",
       "\n",
       "                                        datatakesensingstart  \n",
       "0017bdc3-e276-42cf-8eec-dca0df852710                     NaT  \n",
       "023754ef-45c4-497a-99a0-7bfcc1131714 2016-09-18 16:05:12.026  \n",
       "03d1103c-4171-440f-8841-0aa33b0eea44 2019-12-02 16:05:11.024  \n",
       "044ae374-f8cd-4b71-90cf-ac0da1ce06ee 2020-01-31 16:05:01.024  \n",
       "067a9b90-7b6a-4ef9-9456-c4b8e2393830 2017-12-02 16:05:11.026  "
      ]
     },
     "execution_count": 113,
     "metadata": {},
     "output_type": "execute_result"
    }
   ],
   "source": [
    "targets.head()"
   ]
  },
  {
   "cell_type": "code",
   "execution_count": 121,
   "metadata": {
    "scrolled": true
   },
   "outputs": [
    {
     "name": "stdout",
     "output_type": "stream",
     "text": [
      "couldnt parse date\n",
      "2016 09 18 S2A_MSIL1C_20160918T160512_N0204_R054_T16PHQ_20160918T160929\n",
      "Y:\\Sentinel-2\\MSI\\L1C\\2016\\09\\18\\S2A_MSIL1C_20160918T160512_N0204_R054_T16PHQ_20160918T160929.SAFE C:\\Users\\Administrator\\Documents\\RCCR_mothership\\acolite_L1C_out\\2016_09_18_S2A_MSIL1C_20160918T160512_N0204_R054_T16PHQ_20160918T160929\n",
      "2019 12 02 S2A_MSIL1C_20191202T160511_N0208_R054_T16PHQ_20191202T192503\n",
      "Y:\\Sentinel-2\\MSI\\L1C\\2019\\12\\02\\S2A_MSIL1C_20191202T160511_N0208_R054_T16PHQ_20191202T192503.SAFE C:\\Users\\Administrator\\Documents\\RCCR_mothership\\acolite_L1C_out\\2019_12_02_S2A_MSIL1C_20191202T160511_N0208_R054_T16PHQ_20191202T192503\n",
      "13\n",
      "Acolite produced output!\n"
     ]
    }
   ],
   "source": [
    "import zipfile\n",
    "import subprocess\n",
    "import fnmatch\n",
    "import shutil\n",
    "import time\n",
    "import pandas as pd\n",
    "\n",
    "# ToDo\n",
    "runid = '001'\n",
    "\n",
    "#for x in data_in_root.glob('*/*/*/*.SAFE'):\n",
    "for i, r in targets.iterrows():\n",
    "    #_, _, _, _, yy, mm, dd, obs_ID = x.parts\n",
    "    #obs_ID = obs_ID.split('.')[0]\n",
    "    if pd.isna(r.datatakesensingstart) == True: \n",
    "        print('couldnt parse date')\n",
    "        continue\n",
    "        \n",
    "    obs_ID = r.title\n",
    "    yy = r.datatakesensingstart.year\n",
    "    mm = '{:02d}'.format(r.datatakesensingstart.month)\n",
    "    dd = '{:02d}'.format(r.datatakesensingstart.day)\n",
    "    print(yy, mm, dd, obs_ID)\n",
    "    \n",
    "    data_in = data_in_root/Path(f'{yy}/{mm}/{dd}/{obs_ID}.SAFE')\n",
    "    data_out = project_root/Path(f'acolite_L1C_out/{yy}_{mm}_{dd}_{obs_ID}')\n",
    "    print(data_in, data_out)\n",
    "    \n",
    "    # does the output dir exist?\n",
    "    # create and continue if not\n",
    "    if not data_out.exists():\n",
    "        #print('creating dir', data_out)\n",
    "        data_out.mkdir(parents=True)\n",
    "    \n",
    "        # unzip\n",
    "        #print('unzipping')\n",
    "        #with zipfile.ZipFile(x, 'r') as zip_ref:\n",
    "        #    zip_ref.extractall(data_in_root)\n",
    "\n",
    "        new_settings_path = data_out/Path(f'settings_{runid}.txt')\n",
    "\n",
    "        #print('new settings file')\n",
    "        update_settings_file(settings_template_path, new_settings_path, new_inputfile=data_in, new_output=data_out, \n",
    "                    new_runid=runid)\n",
    "        \n",
    "        logfile_name = data_out/Path(f'python_log_{runid}.txt')\n",
    "        #with open(logfile_name, 'w') as f:\n",
    "        process = subprocess.call([f'{acolite_path}',\n",
    "                                    '--cli',\n",
    "                                    f'--settings={new_settings_path.relative_to(os.getcwd())}'],\n",
    "                                   shell=True,\n",
    "                                   #stdout=f,\n",
    "                                   #stderr=f\n",
    "                                  )\n",
    "        \n",
    "        #cleanup if region out of scene\n",
    "        #time.sleep(0.1)\n",
    "        #if len(os.listdir(data_out)) <= 3: #python is too quick, the subprocess is not done yet.\n",
    "        #    print(\"Only 3 or less files were created, probably means region not in scence. Removing dir\")\n",
    "        #    #shutil.rmtree(data_out)\n",
    "        #else:\n",
    "        #    print(len(os.listdir(data_out)))\n",
    "        #    print(\"Acolite produced output!\")\n",
    "                \n",
    "\n",
    "        #break\n",
    "        "
   ]
  }
 ],
 "metadata": {
  "kernelspec": {
   "display_name": "Python 3",
   "language": "python",
   "name": "python3"
  },
  "language_info": {
   "codemirror_mode": {
    "name": "ipython",
    "version": 3
   },
   "file_extension": ".py",
   "mimetype": "text/x-python",
   "name": "python",
   "nbconvert_exporter": "python",
   "pygments_lexer": "ipython3",
   "version": "3.6.8"
  }
 },
 "nbformat": 4,
 "nbformat_minor": 4
}
