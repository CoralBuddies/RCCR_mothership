{
 "cells": [
  {
   "cell_type": "markdown",
   "metadata": {},
   "source": [
    "# README\n",
    "\n",
    "There will be a couple of settings to change, but those should all be in the first few cells"
   ]
  },
  {
   "cell_type": "code",
   "execution_count": 2,
   "metadata": {},
   "outputs": [
    {
     "data": {
      "text/plain": [
       "'/home/jeroenf/Projects/RCCR_mothership/notebooks'"
      ]
     },
     "execution_count": 2,
     "metadata": {},
     "output_type": "execute_result"
    }
   ],
   "source": [
    "import os\n",
    "from sentinelsat import SentinelAPI\n",
    "from sentinelsat import SentinelAPI, read_geojson, geojson_to_wkt\n",
    "from pathlib import Path\n",
    "import os\n",
    "\n",
    "os.getcwd()"
   ]
  },
  {
   "cell_type": "code",
   "execution_count": 3,
   "metadata": {},
   "outputs": [],
   "source": [
    "user = 'jeroenf' \n",
    "password = 'Yul6(Veb' \n",
    "api = SentinelAPI(user, password, 'https://scihub.copernicus.eu/dhus')"
   ]
  },
  {
   "cell_type": "code",
   "execution_count": 6,
   "metadata": {},
   "outputs": [],
   "source": [
    "# CHANGE THIS IF NOT RUNNING FROM THE PROJECT ROOT\n",
    "#project_root = Path('')\n",
    "project_root = Path(os.getcwd())\n",
    "\n",
    "# CHECK IF THIS DIRECTORY EXISTS, OR CHANGE IT\n",
    "# where the data will be downloaded, and where acolite will look for the input data\n",
    "data_in_root = project_root/Path('data_S2_L1C')\n",
    "\n",
    "# CHANGE TO YOUR ACOLITE INSTALLATION\n",
    "acolite_path = Path('/home/jeroenf/Downloads/acolite/acolite_py_linux/dist/acolite/acolite')\n",
    "\n",
    "# CHECK THIS, and possible change this\n",
    "settings_template_path = project_root/Path('settings/settings_small_withQAA.txt')"
   ]
  },
  {
   "cell_type": "code",
   "execution_count": 5,
   "metadata": {},
   "outputs": [],
   "source": [
    "# CHECK LOCATION OF THIS FILE\n",
    "footprint = geojson_to_wkt(read_geojson(project_root/'settings/golfo_dulce_small_rect.geojson'))"
   ]
  },
  {
   "cell_type": "code",
   "execution_count": 6,
   "metadata": {},
   "outputs": [
    {
     "data": {
      "text/plain": [
       "'POLYGON((-83.4982 8.3243,-83.0463 8.3243,-83.0463 8.7541,-83.4982 8.7541,-83.4982 8.3243))'"
      ]
     },
     "execution_count": 6,
     "metadata": {},
     "output_type": "execute_result"
    }
   ],
   "source": [
    "footprint"
   ]
  },
  {
   "cell_type": "markdown",
   "metadata": {},
   "source": [
    "## only L1C works for ACOLITE (or at least L2A doesn't)"
   ]
  },
  {
   "cell_type": "code",
   "execution_count": 62,
   "metadata": {},
   "outputs": [],
   "source": [
    "products_L1C = api.query(footprint,\n",
    "                    date = ('20190101', '20190331'),\n",
    "                     platformname = 'Sentinel-2',\n",
    "                     processinglevel = 'Level-1C',\n",
    "                     cloudcoverpercentage = (0,30),\n",
    "                        limit=5)"
   ]
  },
  {
   "cell_type": "code",
   "execution_count": 63,
   "metadata": {},
   "outputs": [
    {
     "name": "stderr",
     "output_type": "stream",
     "text": [
      "/home/jeroenf/miniconda3/envs/coral/lib/python3.7/site-packages/pyproj/crs/crs.py:53: FutureWarning: '+init=<authority>:<code>' syntax is deprecated. '<authority>:<code>' is the preferred initialization method. When making the change, be mindful of axis order changes: https://pyproj4.github.io/pyproj/stable/gotchas.html#axis-order-changes-in-proj-6\n",
      "  return _prepare_from_string(\" \".join(pjargs))\n"
     ]
    },
    {
     "data": {
      "text/html": [
       "<div>\n",
       "<style scoped>\n",
       "    .dataframe tbody tr th:only-of-type {\n",
       "        vertical-align: middle;\n",
       "    }\n",
       "\n",
       "    .dataframe tbody tr th {\n",
       "        vertical-align: top;\n",
       "    }\n",
       "\n",
       "    .dataframe thead th {\n",
       "        text-align: right;\n",
       "    }\n",
       "</style>\n",
       "<table border=\"1\" class=\"dataframe\">\n",
       "  <thead>\n",
       "    <tr style=\"text-align: right;\">\n",
       "      <th></th>\n",
       "      <th>title</th>\n",
       "      <th>link</th>\n",
       "      <th>link_alternative</th>\n",
       "      <th>link_icon</th>\n",
       "      <th>summary</th>\n",
       "      <th>datatakesensingstart</th>\n",
       "      <th>beginposition</th>\n",
       "      <th>endposition</th>\n",
       "      <th>ingestiondate</th>\n",
       "      <th>orbitnumber</th>\n",
       "      <th>...</th>\n",
       "      <th>s2datatakeid</th>\n",
       "      <th>producttype</th>\n",
       "      <th>platformidentifier</th>\n",
       "      <th>orbitdirection</th>\n",
       "      <th>platformserialidentifier</th>\n",
       "      <th>processinglevel</th>\n",
       "      <th>identifier</th>\n",
       "      <th>level1cpdiidentifier</th>\n",
       "      <th>uuid</th>\n",
       "      <th>geometry</th>\n",
       "    </tr>\n",
       "  </thead>\n",
       "  <tbody>\n",
       "    <tr>\n",
       "      <th>595d33f6-d2a3-4eaf-9a99-f0d12a079cae</th>\n",
       "      <td>S2B_MSIL1C_20190302T160509_N0207_R054_T16PHQ_2...</td>\n",
       "      <td>https://scihub.copernicus.eu/dhus/odata/v1/Pro...</td>\n",
       "      <td>https://scihub.copernicus.eu/dhus/odata/v1/Pro...</td>\n",
       "      <td>https://scihub.copernicus.eu/dhus/odata/v1/Pro...</td>\n",
       "      <td>Date: 2019-03-02T16:05:09.024Z, Instrument: MS...</td>\n",
       "      <td>2019-03-02 16:05:09.024</td>\n",
       "      <td>2019-03-02 16:05:09.024</td>\n",
       "      <td>2019-03-02 16:05:09.024</td>\n",
       "      <td>2019-03-10 20:55:11.519</td>\n",
       "      <td>10376</td>\n",
       "      <td>...</td>\n",
       "      <td>GS2B_20190302T160509_010376_N02.07</td>\n",
       "      <td>S2MSI1C</td>\n",
       "      <td>2017-013A</td>\n",
       "      <td>DESCENDING</td>\n",
       "      <td>Sentinel-2B</td>\n",
       "      <td>Level-1C</td>\n",
       "      <td>S2B_MSIL1C_20190302T160509_N0207_R054_T16PHQ_2...</td>\n",
       "      <td>S2B_OPER_MSI_L1C_TL_EPAE_20190302T210239_A0103...</td>\n",
       "      <td>595d33f6-d2a3-4eaf-9a99-f0d12a079cae</td>\n",
       "      <td>MULTIPOLYGON (((-83.28366 8.03674, -83.27405 9...</td>\n",
       "    </tr>\n",
       "    <tr>\n",
       "      <th>1301e43f-9a26-4039-aafc-f8b6ee0fe3d7</th>\n",
       "      <td>S2A_MSIL1C_20190327T160511_N0207_R054_T17PKK_2...</td>\n",
       "      <td>https://scihub.copernicus.eu/dhus/odata/v1/Pro...</td>\n",
       "      <td>https://scihub.copernicus.eu/dhus/odata/v1/Pro...</td>\n",
       "      <td>https://scihub.copernicus.eu/dhus/odata/v1/Pro...</td>\n",
       "      <td>Date: 2019-03-27T16:05:11.024Z, Instrument: MS...</td>\n",
       "      <td>2019-03-27 16:05:11.024</td>\n",
       "      <td>2019-03-27 16:05:11.024</td>\n",
       "      <td>2019-03-27 16:05:11.024</td>\n",
       "      <td>2019-03-28 00:34:43.911</td>\n",
       "      <td>19642</td>\n",
       "      <td>...</td>\n",
       "      <td>GS2A_20190327T160511_019642_N02.07</td>\n",
       "      <td>S2MSI1C</td>\n",
       "      <td>2015-028A</td>\n",
       "      <td>DESCENDING</td>\n",
       "      <td>Sentinel-2A</td>\n",
       "      <td>Level-1C</td>\n",
       "      <td>S2A_MSIL1C_20190327T160511_N0207_R054_T17PKK_2...</td>\n",
       "      <td>S2A_OPER_MSI_L1C_TL_MPS__20190327T223305_A0196...</td>\n",
       "      <td>1301e43f-9a26-4039-aafc-f8b6ee0fe3d7</td>\n",
       "      <td>MULTIPOLYGON (((-83.72183 8.04454, -82.72611 8...</td>\n",
       "    </tr>\n",
       "    <tr>\n",
       "      <th>2b4d77b9-5cd8-4ca2-9152-57720411ff90</th>\n",
       "      <td>S2A_MSIL1C_20190327T160511_N0207_R054_T16PHQ_2...</td>\n",
       "      <td>https://scihub.copernicus.eu/dhus/odata/v1/Pro...</td>\n",
       "      <td>https://scihub.copernicus.eu/dhus/odata/v1/Pro...</td>\n",
       "      <td>https://scihub.copernicus.eu/dhus/odata/v1/Pro...</td>\n",
       "      <td>Date: 2019-03-27T16:05:11.024Z, Instrument: MS...</td>\n",
       "      <td>2019-03-27 16:05:11.024</td>\n",
       "      <td>2019-03-27 16:05:11.024</td>\n",
       "      <td>2019-03-27 16:05:11.024</td>\n",
       "      <td>2019-03-28 00:33:53.426</td>\n",
       "      <td>19642</td>\n",
       "      <td>...</td>\n",
       "      <td>GS2A_20190327T160511_019642_N02.07</td>\n",
       "      <td>S2MSI1C</td>\n",
       "      <td>2015-028A</td>\n",
       "      <td>DESCENDING</td>\n",
       "      <td>Sentinel-2A</td>\n",
       "      <td>Level-1C</td>\n",
       "      <td>S2A_MSIL1C_20190327T160511_N0207_R054_T16PHQ_2...</td>\n",
       "      <td>S2A_OPER_MSI_L1C_TL_MPS__20190327T223305_A0196...</td>\n",
       "      <td>2b4d77b9-5cd8-4ca2-9152-57720411ff90</td>\n",
       "      <td>MULTIPOLYGON (((-83.28366 8.03674, -83.27405 9...</td>\n",
       "    </tr>\n",
       "    <tr>\n",
       "      <th>b484523c-dbf4-4fe5-ab98-7dd74bb2d268</th>\n",
       "      <td>S2B_MSIL1C_20190312T160509_N0207_R054_T17PKK_2...</td>\n",
       "      <td>https://scihub.copernicus.eu/dhus/odata/v1/Pro...</td>\n",
       "      <td>https://scihub.copernicus.eu/dhus/odata/v1/Pro...</td>\n",
       "      <td>https://scihub.copernicus.eu/dhus/odata/v1/Pro...</td>\n",
       "      <td>Date: 2019-03-12T16:05:09.024Z, Instrument: MS...</td>\n",
       "      <td>2019-03-12 16:05:09.024</td>\n",
       "      <td>2019-03-12 16:05:09.024</td>\n",
       "      <td>2019-03-12 16:05:09.024</td>\n",
       "      <td>2019-03-13 08:21:18.418</td>\n",
       "      <td>10519</td>\n",
       "      <td>...</td>\n",
       "      <td>GS2B_20190312T160509_010519_N02.07</td>\n",
       "      <td>S2MSI1C</td>\n",
       "      <td>2017-013A</td>\n",
       "      <td>DESCENDING</td>\n",
       "      <td>Sentinel-2B</td>\n",
       "      <td>Level-1C</td>\n",
       "      <td>S2B_MSIL1C_20190312T160509_N0207_R054_T17PKK_2...</td>\n",
       "      <td>S2B_OPER_MSI_L1C_TL_SGS__20190312T210146_A0105...</td>\n",
       "      <td>b484523c-dbf4-4fe5-ab98-7dd74bb2d268</td>\n",
       "      <td>MULTIPOLYGON (((-83.72183 8.04454, -82.72611 8...</td>\n",
       "    </tr>\n",
       "    <tr>\n",
       "      <th>1d2d66c0-67eb-47ec-9668-05a6db04bc49</th>\n",
       "      <td>S2B_MSIL1C_20190312T160509_N0207_R054_T16PHQ_2...</td>\n",
       "      <td>https://scihub.copernicus.eu/dhus/odata/v1/Pro...</td>\n",
       "      <td>https://scihub.copernicus.eu/dhus/odata/v1/Pro...</td>\n",
       "      <td>https://scihub.copernicus.eu/dhus/odata/v1/Pro...</td>\n",
       "      <td>Date: 2019-03-12T16:05:09.024Z, Instrument: MS...</td>\n",
       "      <td>2019-03-12 16:05:09.024</td>\n",
       "      <td>2019-03-12 16:05:09.024</td>\n",
       "      <td>2019-03-12 16:05:09.024</td>\n",
       "      <td>2019-03-13 08:24:38.850</td>\n",
       "      <td>10519</td>\n",
       "      <td>...</td>\n",
       "      <td>GS2B_20190312T160509_010519_N02.07</td>\n",
       "      <td>S2MSI1C</td>\n",
       "      <td>2017-013A</td>\n",
       "      <td>DESCENDING</td>\n",
       "      <td>Sentinel-2B</td>\n",
       "      <td>Level-1C</td>\n",
       "      <td>S2B_MSIL1C_20190312T160509_N0207_R054_T16PHQ_2...</td>\n",
       "      <td>S2B_OPER_MSI_L1C_TL_SGS__20190312T210146_A0105...</td>\n",
       "      <td>1d2d66c0-67eb-47ec-9668-05a6db04bc49</td>\n",
       "      <td>MULTIPOLYGON (((-83.28366 8.03674, -83.27405 9...</td>\n",
       "    </tr>\n",
       "  </tbody>\n",
       "</table>\n",
       "<p>5 rows × 32 columns</p>\n",
       "</div>"
      ],
      "text/plain": [
       "                                                                                  title  \\\n",
       "595d33f6-d2a3-4eaf-9a99-f0d12a079cae  S2B_MSIL1C_20190302T160509_N0207_R054_T16PHQ_2...   \n",
       "1301e43f-9a26-4039-aafc-f8b6ee0fe3d7  S2A_MSIL1C_20190327T160511_N0207_R054_T17PKK_2...   \n",
       "2b4d77b9-5cd8-4ca2-9152-57720411ff90  S2A_MSIL1C_20190327T160511_N0207_R054_T16PHQ_2...   \n",
       "b484523c-dbf4-4fe5-ab98-7dd74bb2d268  S2B_MSIL1C_20190312T160509_N0207_R054_T17PKK_2...   \n",
       "1d2d66c0-67eb-47ec-9668-05a6db04bc49  S2B_MSIL1C_20190312T160509_N0207_R054_T16PHQ_2...   \n",
       "\n",
       "                                                                                   link  \\\n",
       "595d33f6-d2a3-4eaf-9a99-f0d12a079cae  https://scihub.copernicus.eu/dhus/odata/v1/Pro...   \n",
       "1301e43f-9a26-4039-aafc-f8b6ee0fe3d7  https://scihub.copernicus.eu/dhus/odata/v1/Pro...   \n",
       "2b4d77b9-5cd8-4ca2-9152-57720411ff90  https://scihub.copernicus.eu/dhus/odata/v1/Pro...   \n",
       "b484523c-dbf4-4fe5-ab98-7dd74bb2d268  https://scihub.copernicus.eu/dhus/odata/v1/Pro...   \n",
       "1d2d66c0-67eb-47ec-9668-05a6db04bc49  https://scihub.copernicus.eu/dhus/odata/v1/Pro...   \n",
       "\n",
       "                                                                       link_alternative  \\\n",
       "595d33f6-d2a3-4eaf-9a99-f0d12a079cae  https://scihub.copernicus.eu/dhus/odata/v1/Pro...   \n",
       "1301e43f-9a26-4039-aafc-f8b6ee0fe3d7  https://scihub.copernicus.eu/dhus/odata/v1/Pro...   \n",
       "2b4d77b9-5cd8-4ca2-9152-57720411ff90  https://scihub.copernicus.eu/dhus/odata/v1/Pro...   \n",
       "b484523c-dbf4-4fe5-ab98-7dd74bb2d268  https://scihub.copernicus.eu/dhus/odata/v1/Pro...   \n",
       "1d2d66c0-67eb-47ec-9668-05a6db04bc49  https://scihub.copernicus.eu/dhus/odata/v1/Pro...   \n",
       "\n",
       "                                                                              link_icon  \\\n",
       "595d33f6-d2a3-4eaf-9a99-f0d12a079cae  https://scihub.copernicus.eu/dhus/odata/v1/Pro...   \n",
       "1301e43f-9a26-4039-aafc-f8b6ee0fe3d7  https://scihub.copernicus.eu/dhus/odata/v1/Pro...   \n",
       "2b4d77b9-5cd8-4ca2-9152-57720411ff90  https://scihub.copernicus.eu/dhus/odata/v1/Pro...   \n",
       "b484523c-dbf4-4fe5-ab98-7dd74bb2d268  https://scihub.copernicus.eu/dhus/odata/v1/Pro...   \n",
       "1d2d66c0-67eb-47ec-9668-05a6db04bc49  https://scihub.copernicus.eu/dhus/odata/v1/Pro...   \n",
       "\n",
       "                                                                                summary  \\\n",
       "595d33f6-d2a3-4eaf-9a99-f0d12a079cae  Date: 2019-03-02T16:05:09.024Z, Instrument: MS...   \n",
       "1301e43f-9a26-4039-aafc-f8b6ee0fe3d7  Date: 2019-03-27T16:05:11.024Z, Instrument: MS...   \n",
       "2b4d77b9-5cd8-4ca2-9152-57720411ff90  Date: 2019-03-27T16:05:11.024Z, Instrument: MS...   \n",
       "b484523c-dbf4-4fe5-ab98-7dd74bb2d268  Date: 2019-03-12T16:05:09.024Z, Instrument: MS...   \n",
       "1d2d66c0-67eb-47ec-9668-05a6db04bc49  Date: 2019-03-12T16:05:09.024Z, Instrument: MS...   \n",
       "\n",
       "                                        datatakesensingstart  \\\n",
       "595d33f6-d2a3-4eaf-9a99-f0d12a079cae 2019-03-02 16:05:09.024   \n",
       "1301e43f-9a26-4039-aafc-f8b6ee0fe3d7 2019-03-27 16:05:11.024   \n",
       "2b4d77b9-5cd8-4ca2-9152-57720411ff90 2019-03-27 16:05:11.024   \n",
       "b484523c-dbf4-4fe5-ab98-7dd74bb2d268 2019-03-12 16:05:09.024   \n",
       "1d2d66c0-67eb-47ec-9668-05a6db04bc49 2019-03-12 16:05:09.024   \n",
       "\n",
       "                                               beginposition  \\\n",
       "595d33f6-d2a3-4eaf-9a99-f0d12a079cae 2019-03-02 16:05:09.024   \n",
       "1301e43f-9a26-4039-aafc-f8b6ee0fe3d7 2019-03-27 16:05:11.024   \n",
       "2b4d77b9-5cd8-4ca2-9152-57720411ff90 2019-03-27 16:05:11.024   \n",
       "b484523c-dbf4-4fe5-ab98-7dd74bb2d268 2019-03-12 16:05:09.024   \n",
       "1d2d66c0-67eb-47ec-9668-05a6db04bc49 2019-03-12 16:05:09.024   \n",
       "\n",
       "                                                 endposition  \\\n",
       "595d33f6-d2a3-4eaf-9a99-f0d12a079cae 2019-03-02 16:05:09.024   \n",
       "1301e43f-9a26-4039-aafc-f8b6ee0fe3d7 2019-03-27 16:05:11.024   \n",
       "2b4d77b9-5cd8-4ca2-9152-57720411ff90 2019-03-27 16:05:11.024   \n",
       "b484523c-dbf4-4fe5-ab98-7dd74bb2d268 2019-03-12 16:05:09.024   \n",
       "1d2d66c0-67eb-47ec-9668-05a6db04bc49 2019-03-12 16:05:09.024   \n",
       "\n",
       "                                               ingestiondate  orbitnumber  \\\n",
       "595d33f6-d2a3-4eaf-9a99-f0d12a079cae 2019-03-10 20:55:11.519        10376   \n",
       "1301e43f-9a26-4039-aafc-f8b6ee0fe3d7 2019-03-28 00:34:43.911        19642   \n",
       "2b4d77b9-5cd8-4ca2-9152-57720411ff90 2019-03-28 00:33:53.426        19642   \n",
       "b484523c-dbf4-4fe5-ab98-7dd74bb2d268 2019-03-13 08:21:18.418        10519   \n",
       "1d2d66c0-67eb-47ec-9668-05a6db04bc49 2019-03-13 08:24:38.850        10519   \n",
       "\n",
       "                                      ...                        s2datatakeid  \\\n",
       "595d33f6-d2a3-4eaf-9a99-f0d12a079cae  ...  GS2B_20190302T160509_010376_N02.07   \n",
       "1301e43f-9a26-4039-aafc-f8b6ee0fe3d7  ...  GS2A_20190327T160511_019642_N02.07   \n",
       "2b4d77b9-5cd8-4ca2-9152-57720411ff90  ...  GS2A_20190327T160511_019642_N02.07   \n",
       "b484523c-dbf4-4fe5-ab98-7dd74bb2d268  ...  GS2B_20190312T160509_010519_N02.07   \n",
       "1d2d66c0-67eb-47ec-9668-05a6db04bc49  ...  GS2B_20190312T160509_010519_N02.07   \n",
       "\n",
       "                                      producttype platformidentifier  \\\n",
       "595d33f6-d2a3-4eaf-9a99-f0d12a079cae      S2MSI1C          2017-013A   \n",
       "1301e43f-9a26-4039-aafc-f8b6ee0fe3d7      S2MSI1C          2015-028A   \n",
       "2b4d77b9-5cd8-4ca2-9152-57720411ff90      S2MSI1C          2015-028A   \n",
       "b484523c-dbf4-4fe5-ab98-7dd74bb2d268      S2MSI1C          2017-013A   \n",
       "1d2d66c0-67eb-47ec-9668-05a6db04bc49      S2MSI1C          2017-013A   \n",
       "\n",
       "                                     orbitdirection platformserialidentifier  \\\n",
       "595d33f6-d2a3-4eaf-9a99-f0d12a079cae     DESCENDING              Sentinel-2B   \n",
       "1301e43f-9a26-4039-aafc-f8b6ee0fe3d7     DESCENDING              Sentinel-2A   \n",
       "2b4d77b9-5cd8-4ca2-9152-57720411ff90     DESCENDING              Sentinel-2A   \n",
       "b484523c-dbf4-4fe5-ab98-7dd74bb2d268     DESCENDING              Sentinel-2B   \n",
       "1d2d66c0-67eb-47ec-9668-05a6db04bc49     DESCENDING              Sentinel-2B   \n",
       "\n",
       "                                     processinglevel  \\\n",
       "595d33f6-d2a3-4eaf-9a99-f0d12a079cae        Level-1C   \n",
       "1301e43f-9a26-4039-aafc-f8b6ee0fe3d7        Level-1C   \n",
       "2b4d77b9-5cd8-4ca2-9152-57720411ff90        Level-1C   \n",
       "b484523c-dbf4-4fe5-ab98-7dd74bb2d268        Level-1C   \n",
       "1d2d66c0-67eb-47ec-9668-05a6db04bc49        Level-1C   \n",
       "\n",
       "                                                                             identifier  \\\n",
       "595d33f6-d2a3-4eaf-9a99-f0d12a079cae  S2B_MSIL1C_20190302T160509_N0207_R054_T16PHQ_2...   \n",
       "1301e43f-9a26-4039-aafc-f8b6ee0fe3d7  S2A_MSIL1C_20190327T160511_N0207_R054_T17PKK_2...   \n",
       "2b4d77b9-5cd8-4ca2-9152-57720411ff90  S2A_MSIL1C_20190327T160511_N0207_R054_T16PHQ_2...   \n",
       "b484523c-dbf4-4fe5-ab98-7dd74bb2d268  S2B_MSIL1C_20190312T160509_N0207_R054_T17PKK_2...   \n",
       "1d2d66c0-67eb-47ec-9668-05a6db04bc49  S2B_MSIL1C_20190312T160509_N0207_R054_T16PHQ_2...   \n",
       "\n",
       "                                                                   level1cpdiidentifier  \\\n",
       "595d33f6-d2a3-4eaf-9a99-f0d12a079cae  S2B_OPER_MSI_L1C_TL_EPAE_20190302T210239_A0103...   \n",
       "1301e43f-9a26-4039-aafc-f8b6ee0fe3d7  S2A_OPER_MSI_L1C_TL_MPS__20190327T223305_A0196...   \n",
       "2b4d77b9-5cd8-4ca2-9152-57720411ff90  S2A_OPER_MSI_L1C_TL_MPS__20190327T223305_A0196...   \n",
       "b484523c-dbf4-4fe5-ab98-7dd74bb2d268  S2B_OPER_MSI_L1C_TL_SGS__20190312T210146_A0105...   \n",
       "1d2d66c0-67eb-47ec-9668-05a6db04bc49  S2B_OPER_MSI_L1C_TL_SGS__20190312T210146_A0105...   \n",
       "\n",
       "                                                                      uuid  \\\n",
       "595d33f6-d2a3-4eaf-9a99-f0d12a079cae  595d33f6-d2a3-4eaf-9a99-f0d12a079cae   \n",
       "1301e43f-9a26-4039-aafc-f8b6ee0fe3d7  1301e43f-9a26-4039-aafc-f8b6ee0fe3d7   \n",
       "2b4d77b9-5cd8-4ca2-9152-57720411ff90  2b4d77b9-5cd8-4ca2-9152-57720411ff90   \n",
       "b484523c-dbf4-4fe5-ab98-7dd74bb2d268  b484523c-dbf4-4fe5-ab98-7dd74bb2d268   \n",
       "1d2d66c0-67eb-47ec-9668-05a6db04bc49  1d2d66c0-67eb-47ec-9668-05a6db04bc49   \n",
       "\n",
       "                                                                               geometry  \n",
       "595d33f6-d2a3-4eaf-9a99-f0d12a079cae  MULTIPOLYGON (((-83.28366 8.03674, -83.27405 9...  \n",
       "1301e43f-9a26-4039-aafc-f8b6ee0fe3d7  MULTIPOLYGON (((-83.72183 8.04454, -82.72611 8...  \n",
       "2b4d77b9-5cd8-4ca2-9152-57720411ff90  MULTIPOLYGON (((-83.28366 8.03674, -83.27405 9...  \n",
       "b484523c-dbf4-4fe5-ab98-7dd74bb2d268  MULTIPOLYGON (((-83.72183 8.04454, -82.72611 8...  \n",
       "1d2d66c0-67eb-47ec-9668-05a6db04bc49  MULTIPOLYGON (((-83.28366 8.03674, -83.27405 9...  \n",
       "\n",
       "[5 rows x 32 columns]"
      ]
     },
     "execution_count": 63,
     "metadata": {},
     "output_type": "execute_result"
    }
   ],
   "source": [
    "products_gdf_L1C = api.to_geodataframe(products_L1C)\n",
    "products_gdf_sorted_L1C = products_gdf_L1C.sort_values(['cloudcoverpercentage'], ascending=[True])\n",
    "products_gdf_sorted_L1C"
   ]
  },
  {
   "cell_type": "code",
   "execution_count": null,
   "metadata": {
    "scrolled": true
   },
   "outputs": [],
   "source": [
    "api.download_all(products_L1C, directory_path=f'{data_in_root}')"
   ]
  },
  {
   "cell_type": "markdown",
   "metadata": {},
   "source": [
    "# run ACOLITE"
   ]
  },
  {
   "cell_type": "markdown",
   "metadata": {},
   "source": [
    "## using CLI"
   ]
  },
  {
   "cell_type": "code",
   "execution_count": 22,
   "metadata": {},
   "outputs": [],
   "source": [
    "# need to create dirs, settings files, unzip\n",
    "# change inputfile, output, runid?"
   ]
  },
  {
   "cell_type": "code",
   "execution_count": 8,
   "metadata": {},
   "outputs": [
    {
     "data": {
      "text/plain": [
       "'/home/jeroenf/Projects/coral'"
      ]
     },
     "execution_count": 8,
     "metadata": {},
     "output_type": "execute_result"
    }
   ],
   "source": [
    "os.getcwd()"
   ]
  },
  {
   "cell_type": "code",
   "execution_count": 9,
   "metadata": {},
   "outputs": [],
   "source": [
    "def update_settings_file(infile, outfile, new_inputfile=None, new_output=None, new_runid=None):\n",
    "    cwd = Path(os.getcwd())\n",
    "    infile = Path(infile)\n",
    "    outfile = Path(outfile)\n",
    "    with open(cwd/infile, \"r\") as source:\n",
    "        lines = source.readlines()\n",
    "    with open(cwd/outfile, \"w\") as target:\n",
    "        for line in lines:\n",
    "            if new_inputfile and (\"inputfile\" in line):\n",
    "                target.write(f\"inputfile={new_inputfile}\\n\")\n",
    "            elif new_output and (\"output=\" in line):\n",
    "                target.write(f\"output={new_output}\\n\")\n",
    "            elif new_runid and (\"runid=\" in line):\n",
    "                target.write(f\"runid={new_runid}\\n\")\n",
    "            else:\n",
    "                target.write(line)"
   ]
  },
  {
   "cell_type": "markdown",
   "metadata": {},
   "source": [
    "## L1C data"
   ]
  },
  {
   "cell_type": "markdown",
   "metadata": {},
   "source": [
    "This will look in the data folder and see if there are any observations there that do not yet have an corresponding output folder. (It will look for zip files)\n",
    "\n",
    "If it finds any, it will extract the zip (in place), and then perform acolite.\n",
    "\n",
    "Golfo Dulce coordinates are hardcoded, so you can't just use other data!"
   ]
  },
  {
   "cell_type": "code",
   "execution_count": 41,
   "metadata": {},
   "outputs": [
    {
     "data": {
      "text/plain": [
       "'/home/jeroenf/Projects/coral'"
      ]
     },
     "execution_count": 41,
     "metadata": {},
     "output_type": "execute_result"
    }
   ],
   "source": [
    "os.getcwd()"
   ]
  },
  {
   "cell_type": "code",
   "execution_count": 48,
   "metadata": {
    "scrolled": true
   },
   "outputs": [
    {
     "name": "stdout",
     "output_type": "stream",
     "text": [
      "/home/jeroenf/Projects/coral/data_S2_L1C/S2B_MSIL1C_20190312T160509_N0207_R054_T16PHQ_20190312T210146.zip\n",
      "S2B_MSIL1C_20190312T160509_N0207_R054_T16PHQ_20190312T210146\n",
      "/home/jeroenf/Projects/coral/data_S2_L1C/S2B_MSIL1C_20190312T160509_N0207_R054_T16PHQ_20190312T210146.SAFE /home/jeroenf/Projects/coral/acolite_L1C_out/S2B_MSIL1C_20190312T160509_N0207_R054_T16PHQ_20190312T210146\n",
      "/home/jeroenf/Projects/coral/data_S2_L1C/S2B_MSIL1C_20190312T160509_N0207_R054_T17PKK_20190312T210146.zip\n",
      "S2B_MSIL1C_20190312T160509_N0207_R054_T17PKK_20190312T210146\n",
      "/home/jeroenf/Projects/coral/data_S2_L1C/S2B_MSIL1C_20190312T160509_N0207_R054_T17PKK_20190312T210146.SAFE /home/jeroenf/Projects/coral/acolite_L1C_out/S2B_MSIL1C_20190312T160509_N0207_R054_T17PKK_20190312T210146\n",
      "creating dir /home/jeroenf/Projects/coral/acolite_L1C_out/S2B_MSIL1C_20190312T160509_N0207_R054_T17PKK_20190312T210146\n",
      "unzipping\n",
      "new settings file\n",
      "/home/jeroenf/Projects/coral/data_S2_L1C/S2A_MSIL1C_20190327T160511_N0207_R054_T16PHQ_20190327T223305.zip\n",
      "S2A_MSIL1C_20190327T160511_N0207_R054_T16PHQ_20190327T223305\n",
      "/home/jeroenf/Projects/coral/data_S2_L1C/S2A_MSIL1C_20190327T160511_N0207_R054_T16PHQ_20190327T223305.SAFE /home/jeroenf/Projects/coral/acolite_L1C_out/S2A_MSIL1C_20190327T160511_N0207_R054_T16PHQ_20190327T223305\n",
      "creating dir /home/jeroenf/Projects/coral/acolite_L1C_out/S2A_MSIL1C_20190327T160511_N0207_R054_T16PHQ_20190327T223305\n",
      "unzipping\n",
      "new settings file\n",
      "/home/jeroenf/Projects/coral/data_S2_L1C/S2A_MSIL1C_20200311T160511_N0209_R054_T16PHQ_20200311T210541.zip\n",
      "S2A_MSIL1C_20200311T160511_N0209_R054_T16PHQ_20200311T210541\n",
      "/home/jeroenf/Projects/coral/data_S2_L1C/S2A_MSIL1C_20200311T160511_N0209_R054_T16PHQ_20200311T210541.SAFE /home/jeroenf/Projects/coral/acolite_L1C_out/S2A_MSIL1C_20200311T160511_N0209_R054_T16PHQ_20200311T210541\n",
      "creating dir /home/jeroenf/Projects/coral/acolite_L1C_out/S2A_MSIL1C_20200311T160511_N0209_R054_T16PHQ_20200311T210541\n",
      "unzipping\n",
      "new settings file\n",
      "/home/jeroenf/Projects/coral/data_S2_L1C/S2A_MSIL1C_20190327T160511_N0207_R054_T17PKK_20190327T223305.zip\n",
      "S2A_MSIL1C_20190327T160511_N0207_R054_T17PKK_20190327T223305\n",
      "/home/jeroenf/Projects/coral/data_S2_L1C/S2A_MSIL1C_20190327T160511_N0207_R054_T17PKK_20190327T223305.SAFE /home/jeroenf/Projects/coral/acolite_L1C_out/S2A_MSIL1C_20190327T160511_N0207_R054_T17PKK_20190327T223305\n",
      "creating dir /home/jeroenf/Projects/coral/acolite_L1C_out/S2A_MSIL1C_20190327T160511_N0207_R054_T17PKK_20190327T223305\n",
      "unzipping\n",
      "new settings file\n",
      "/home/jeroenf/Projects/coral/data_S2_L1C/S2B_MSIL1C_20190302T160509_N0207_R054_T16PHQ_20190302T210239.zip\n",
      "S2B_MSIL1C_20190302T160509_N0207_R054_T16PHQ_20190302T210239\n",
      "/home/jeroenf/Projects/coral/data_S2_L1C/S2B_MSIL1C_20190302T160509_N0207_R054_T16PHQ_20190302T210239.SAFE /home/jeroenf/Projects/coral/acolite_L1C_out/S2B_MSIL1C_20190302T160509_N0207_R054_T16PHQ_20190302T210239\n",
      "creating dir /home/jeroenf/Projects/coral/acolite_L1C_out/S2B_MSIL1C_20190302T160509_N0207_R054_T16PHQ_20190302T210239\n",
      "unzipping\n",
      "new settings file\n"
     ]
    }
   ],
   "source": [
    "import zipfile\n",
    "import subprocess\n",
    "\n",
    "# ToDo\n",
    "runid = '001'\n",
    "\n",
    "for x in data_in_root.glob('*.zip'):\n",
    "    print(x)\n",
    "    obs_ID = x.parts[-1].split('.')[0]\n",
    "    print(obs_ID)\n",
    "    \n",
    "    data_in = data_in_root/Path(f'{obs_ID}.SAFE')\n",
    "    data_out = project_root/Path('acolite_L1C_out')/Path(f'{obs_ID}')\n",
    "    print(data_in, data_out)\n",
    "    \n",
    "    # does the output dir exist?\n",
    "    # create and continue if not\n",
    "    if not data_out.exists():\n",
    "        print('creating dir', data_out)\n",
    "        data_out.mkdir()\n",
    "    \n",
    "        # unzip\n",
    "        print('unzipping')\n",
    "        with zipfile.ZipFile(x, 'r') as zip_ref:\n",
    "            zip_ref.extractall(data_in_root)\n",
    "\n",
    "        new_settings_path = data_out/Path(f'settings_{runid}.txt')\n",
    "\n",
    "        print('new settings file')\n",
    "        update_settings_file(settings_template_path, new_settings_path, new_inputfile=data_in, new_output=data_out, \n",
    "                    new_runid=runid)\n",
    "        \n",
    "        \n",
    "        process = subprocess.Popen([f'{acolite_path}',\n",
    "                                    '--cli',\n",
    "                                    f'--settings={new_settings_path}']\n",
    "                                  )\n",
    "\n",
    "        \n",
    "        "
   ]
  },
  {
   "cell_type": "markdown",
   "metadata": {},
   "source": [
    "### manual (old)"
   ]
  },
  {
   "cell_type": "markdown",
   "metadata": {},
   "source": [
    "cwd = Path(os.getcwd())\n",
    "obs_ID = 'S2A_MSIL1C_20190327T160511_N0207_R054_T17PKK_20190327T223305'\n",
    "runid = '20200413_002'\n",
    "settings_template_path = cwd/Path('settings_small_noQAA.txt')\n",
    "\n",
    "data_in_root = cwd/Path('data_S2_L1C')\n",
    "data_in = data_in_root/Path(f'{obs_ID}.SAFE')\n",
    "data_out = cwd/Path('acolite_L1C_out')\n",
    "new_settings_path = data_out/Path(f'settings_{runid}.txt')\n",
    "\n",
    "update_settings_file(settings_template_path, new_settings_path, new_inputfile=data_in, new_output=data_out, \n",
    "                    new_runid=runid)"
   ]
  }
 ],
 "metadata": {
  "kernelspec": {
   "display_name": "coral",
   "language": "python",
   "name": "coral"
  },
  "language_info": {
   "codemirror_mode": {
    "name": "ipython",
    "version": 3
   },
   "file_extension": ".py",
   "mimetype": "text/x-python",
   "name": "python",
   "nbconvert_exporter": "python",
   "pygments_lexer": "ipython3",
   "version": "3.7.4"
  }
 },
 "nbformat": 4,
 "nbformat_minor": 4
}
